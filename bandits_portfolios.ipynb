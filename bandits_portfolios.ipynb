{
 "cells": [
  {
   "cell_type": "code",
   "execution_count": null,
   "metadata": {
    "ExecuteTime": {
     "end_time": "2020-06-07T22:44:13.408983Z",
     "start_time": "2020-06-07T22:44:12.938521Z"
    }
   },
   "outputs": [],
   "source": [
    "import matplotlib.pyplot as plt\n",
    "import pandas as pd\n",
    "# import pandas_datareader.data as web\n",
    "import tensorflow as tf\n",
    "import numpy as np\n",
    "from sklearn.metrics import classification_report\n",
    "from functools import partial\n",
    "import talib\n",
    "from sklearn.metrics import accuracy_score\n",
    "from sklearn.metrics import mean_absolute_error\n",
    "from sklearn.metrics import mean_squared_error\n",
    "from sklearn.preprocessing import MinMaxScaler\n",
    "from scipy.stats import norm, kurtosis, skew"
   ]
  },
  {
   "cell_type": "code",
   "execution_count": null,
   "metadata": {
    "ExecuteTime": {
     "end_time": "2020-06-08T21:44:44.988396Z",
     "start_time": "2020-06-08T21:44:44.734580Z"
    }
   },
   "outputs": [],
   "source": [
    "\n",
    "\n",
    "#data = pd.read_csv('/Users/guneykan/Downloads/48_Industry_Portfolios.CSV', index_col=0)\n",
    "data_daily = pd.read_csv('/Users/frank/Downloads/48_Industry_Portfolios_Daily.csv', index_col=0)\n",
    "data_monthly = pd.read_csv('/Users/frank/Downloads/48_Industry_Portfolios.csv', index_col=0)\n",
    "\n",
    "data_daily = data_daily[('197401' <= data_daily.index.values.astype(str)) & (data_daily.index.values.astype(str) <= '201912')]\n",
    "data_monthly = data_monthly[('197401' <= data_monthly.index.values.astype(str)) & (data_monthly.index.values.astype(str) <= '201912')]\n",
    "\n",
    "\n",
    "data_daily.index = pd.to_datetime(data_daily.index, format=\"%Y%m%d\")\n",
    "data_monthly.index = pd.to_datetime(data_monthly.index, format=\"%Y%m\")\n",
    "\n",
    "date_daily = data_daily.index.date\n",
    "date_monthly = data_monthly.index.date\n",
    "\n",
    "# The rate of return matrix, fill missing values with 100%\n",
    "R = data_daily.values.T.astype(float)\n",
    "R[R < -99]\n",
    "R = (R + 100) / 100  # Gross Return"
   ]
  },
  {
   "cell_type": "code",
   "execution_count": null,
   "metadata": {
    "ExecuteTime": {
     "end_time": "2020-06-09T21:09:22.204453Z",
     "start_time": "2020-06-09T21:09:22.181411Z"
    }
   },
   "outputs": [],
   "source": [
    "data_daily.head()"
   ]
  },
  {
   "cell_type": "markdown",
   "metadata": {},
   "source": [
    "# Daily"
   ]
  },
  {
   "cell_type": "code",
   "execution_count": null,
   "metadata": {
    "ExecuteTime": {
     "end_time": "2020-06-08T21:44:48.995583Z",
     "start_time": "2020-06-08T21:44:48.919677Z"
    }
   },
   "outputs": [],
   "source": [
    "from sklearn.preprocessing import MinMaxScaler\n",
    "from sklearn.preprocessing import StandardScaler\n",
    "\n",
    "class BanditPortfolio:\n",
    "    def __init__(self, R):\n",
    "        self.R = R\n",
    "        self.n_arms, self.n_samples = R.shape\n",
    "        \n",
    "    def UCB(self, window_size):\n",
    "        self.reward = np.ones(self.n_samples - window_size)\n",
    "        self.played_times = np.ones(self.n_arms)\n",
    "        \n",
    "        for t in range(window_size, self.n_samples):\n",
    "            sliceR = self.R[:, t-window_size:t]\n",
    "            \n",
    "            # Compute the covariance matrix\n",
    "            covariance_matrix =  np.cov(sliceR)\n",
    "            \n",
    "            # Eigenvalue Decomposition\n",
    "            A, H = np.linalg.eig(covariance_matrix)\n",
    "            \n",
    "            # All eigenvalues are positive\n",
    "            assert(np.sum(A<0) == 0)\n",
    "            \n",
    "            # Sort the eigenvalues\n",
    "            idx = np.argsort(-A)\n",
    "            A = np.diag(A[idx])\n",
    "            H = H[:,idx]\n",
    "            l = np.argwhere(np.median(np.diag(A)) > np.diag(A))[0][0]\n",
    "            \n",
    "            # Normalized weight\n",
    "            H /= np.sum(H, axis= 0)\n",
    "            ANew =  H.T.dot(covariance_matrix).dot(H)\n",
    "            \n",
    "            # Compute the sharpe ratio\n",
    "            portfolio_reward = H.T.dot(sliceR)\n",
    "\n",
    "            sharpe_ratio = np.mean(portfolio_reward, axis=1) / np.sqrt(ANew.diagonal())\n",
    "            #sharpe_ratio = MinMaxScaler().fit_transform(sharpe_ratio.reshape(-1,1)).reshape(-1)\n",
    "            \n",
    "            # Compute the upper bound of expected reward\n",
    "            sharpe_ratio_upper_bound = sharpe_ratio + np.sqrt((2*np.log(t))/(window_size+self.played_times))\n",
    "            \n",
    "            # Select the optimal arm\n",
    "            action1 = np.argmax(sharpe_ratio_upper_bound[:l])\n",
    "            action2 = np.argmax(sharpe_ratio_upper_bound[l:])+l\n",
    "\n",
    "            self.played_times[action1] += 1\n",
    "            self.played_times[action2] += 1\n",
    "\n",
    "            # Optimal weight\n",
    "            Adiag = ANew.diagonal()\n",
    "            theta = Adiag[action1] / (Adiag[action1] + Adiag[action2])\n",
    "            self.weight = (1-theta)*H[:,action1] + theta*H[:,action2]\n",
    "            \n",
    "            self.reward[t-window_size] = self.weight.dot(self.R[:,t])\n",
    "            \n",
    "    def TS(self, window_size):\n",
    "        self.reward = np.ones(self.n_samples - window_size)\n",
    "        self.mv_reward = np.ones(self.n_samples - window_size)\n",
    "        self.played_times = np.ones(self.n_arms)\n",
    "        self.success = np.ones(4)\n",
    "        self.fail = np.ones(4)\n",
    "\n",
    "        for t in range(window_size, self.n_samples):\n",
    "\n",
    "            sliceR = self.R[:, t-window_size:t]\n",
    "\n",
    "            # Compute the covariance matrix\n",
    "            covariance_matrix = np.cov(sliceR)  # histroical covariance\n",
    "\n",
    "            # Eigenvalue Decomposition\n",
    "            A, H = np.linalg.eig(covariance_matrix)  # equation 5\n",
    "\n",
    "            # All eigenvalues are positive\n",
    "            assert(np.sum(A < 0) == 0)\n",
    "\n",
    "            # Sort the eigenvalues\n",
    "            idx = np.argsort(-A)  # sort eigenvalues\n",
    "            A = np.diag(A[idx])  #  eigenvalues as vector\n",
    "            H = H[:, idx]  #  n(number of assets) orthonormal portfolios\n",
    "            l = np.argwhere(np.median(np.diag(A)) > np.diag(A))[0][0]\n",
    "\n",
    "            # Normalized weight\n",
    "            H /= np.sum(H, axis=0)  # equation 7 normalized eigenvectors\n",
    "            #  equation 8 normalized eigenvalues matrix\n",
    "            ANew = H.T.dot(covariance_matrix).dot(H)\n",
    "\n",
    "            # Compute the sharpe ratio\n",
    "            #  Return of each port. in the slice window\n",
    "            portfolio_reward = H.T.dot(sliceR)\n",
    "            # Estimator of portfolio return, rolling average\n",
    "            sharpe_ratio = np.mean(\n",
    "                portfolio_reward, axis=1) / np.sqrt(ANew.diagonal())\n",
    "            # Normalize the sharpe ratio\n",
    "            #sharpe_ratio = MinMaxScaler().fit_transform(\n",
    "            #    sharpe_ratio.reshape(-1, 1)).reshape(-1)\n",
    "\n",
    "            # Compute the upper bound of expected reward\n",
    "            sharpe_ratio_upper_bound = sharpe_ratio + \\\n",
    "                np.sqrt((2*np.log(t))/(window_size+self.played_times))\n",
    "\n",
    "            # Select the optimal arm\n",
    "            #  passive portfolios\n",
    "            action1 = np.argmax(sharpe_ratio_upper_bound[:l])\n",
    "            #  active portfolios\n",
    "            action2 = np.argmax(sharpe_ratio_upper_bound[l:])+l\n",
    "\n",
    "            #  update the times portfolio played\n",
    "            self.played_times[action1] += 1\n",
    "            self.played_times[action2] += 1  # update the second action\n",
    "\n",
    "            # Optimal weight, Min var allocation between 2 chosen portfolios\n",
    "            Adiag = ANew.diagonal()\n",
    "            theta = Adiag[action1] / (Adiag[action1] + Adiag[action2])\n",
    "            \n",
    "            self.psr_set = []\n",
    "            #psr_second_set = []\n",
    "            for a in range(len(sharpe_ratio)):\n",
    "                sr = sharpe_ratio[a]\n",
    "                n = (window_size+self.played_times[a])/window_size\n",
    "                skewness = skew(portfolio_reward[a, :])\n",
    "                kurto = kurtosis(portfolio_reward[a, :])\n",
    "                nomin = (sr-np.mean(sharpe_ratio))*np.sqrt(n)\n",
    "                denom = np.sqrt(np.abs((1 + 0.5*sr**2 - skewness*sr + ((kurto-3)/4)*sr**2))/(n-1))\n",
    "                self.psr_set.append(nomin/denom)\n",
    "                \n",
    "                \n",
    "            self.psr_set = np.array([norm.cdf(a) for a in self.psr_set])\n",
    "            \n",
    "            sharpe_ratio_upper_bound_psr = (sharpe_ratio + \\\n",
    "                np.sqrt((2*np.log(t))/(window_size+self.played_times)))*np.array(self.psr_set)\n",
    "                \n",
    "            \n",
    "            action_1_1 = np.argmax(sharpe_ratio_upper_bound_psr[:l])\n",
    "            action_1_2 = np.argmax(sharpe_ratio_upper_bound_psr[l:])+l\n",
    "\n",
    "\n",
    "            # Optimal weight\n",
    "            theta_ = Adiag[action_1_1] / (Adiag[action_1_1] + Adiag[action_1_2])\n",
    "                        \n",
    "            \n",
    "            \n",
    "            self.weight_1 = (1-theta)*H[:, action1] + theta*H[:, action2]\n",
    "            \n",
    "            self.weight_2 = np.ones(self.n_arms)/self.n_arms\n",
    "            \n",
    "            self.weight_3 = (np.linalg.inv(covariance_matrix)@np.ones(self.n_arms).reshape(-1, 1))/(np.ones(\n",
    "                self.n_arms).reshape(-1, 1).T@np.linalg.inv(covariance_matrix)@np.ones(self.n_arms).reshape(-1, 1))\n",
    "            \n",
    "            self.weight_4 = (1-theta_)*H[:,action_1_1] + theta_*H[:,action_1_2]\n",
    "            \n",
    "            \n",
    "            final_actions = [self.weight_1, self.weight_2, self.weight_3, self.weight_4]\n",
    "            draws = [np.random.beta(self.success[action], self.fail[action])\n",
    "                     for action in range(4)]\n",
    "            \n",
    "            final_weight = final_actions[np.argmax(draws)]\n",
    "            \n",
    "            self.reward[t-window_size] = final_weight.T.dot(self.R[:, t])\n",
    "            self.mv_reward[t-window_size] = self.weight_3.T.dot(self.R[:, t])\n",
    "            \n",
    "            rewards = [self.weight_1.T.dot(self.R[:, t]), self.weight_2.T.dot(self.R[:, t]), self.weight_3.T.dot(self.R[:, t]), self.weight_4.T.dot(self.R[:, t])]\n",
    "            \n",
    "            \n",
    "\n",
    "            if np.max(rewards) == final_weight.T@self.R[:, t]:\n",
    "                self.success[np.argmax(draws)] += 1\n",
    "                other_idx = [a for a in range(4) if a != np.argmax(rewards)]\n",
    "                self.fail[other_idx[0]] +=1\n",
    "                self.fail[other_idx[1]] +=1\n",
    "                self.fail[other_idx[2]] +=1\n",
    "            else:\n",
    "                other_idx = [a for a in range(4) if (a != np.argmax(rewards)) & (a != np.argmax(draws))]\n",
    "                self.success[np.argmax(rewards)] +=1\n",
    "                self.fail[other_idx[0]] +=1\n",
    "                self.fail[other_idx[1]] +=1\n",
    "                self.fail[np.argmax(draws)] += 1\n",
    "                \n",
    "    def UCBPSR(self, window_size):\n",
    "        self.reward = np.ones(self.n_samples - window_size)\n",
    "        self.played_times = np.ones(self.n_arms)\n",
    "        self.psr = {}\n",
    "        \n",
    "        for t in range(window_size, self.n_samples):\n",
    "            sliceR = self.R[:, t-window_size:t]\n",
    "            \n",
    "            # Compute the covariance matrix\n",
    "            covariance_matrix =  np.cov(sliceR)\n",
    "            \n",
    "            # Eigenvalue Decomposition\n",
    "            A, H = np.linalg.eig(covariance_matrix)\n",
    "            \n",
    "            # All eigenvalues are positive\n",
    "            assert(np.sum(A<0) == 0)\n",
    "            \n",
    "            # Sort the eigenvalues\n",
    "            idx = np.argsort(-A)\n",
    "            A = np.diag(A[idx])\n",
    "            H = H[:,idx]\n",
    "            l = np.argwhere(np.median(np.diag(A)) > np.diag(A))[0][0]\n",
    "            \n",
    "            # Normalized weight\n",
    "            H /= np.sum(H, axis= 0)\n",
    "            ANew =  H.T.dot(covariance_matrix).dot(H)\n",
    "            \n",
    "            # Compute the sharpe ratio\n",
    "            portfolio_reward = H.T.dot(sliceR)\n",
    "\n",
    "            \n",
    "            sharpe_ratio = (np.mean(portfolio_reward, axis=1) / np.sqrt(ANew.diagonal()))\n",
    "            #sharpe_ratio = MinMaxScaler().fit_transform(sharpe_ratio.reshape(-1,1)).reshape(-1)\n",
    "            #scl = MinMaxScaler()\n",
    "            #sharpe_ratio = scl.fit_transform(sharpe_ratio.reshape(-1,1)).reshape(-1)\n",
    "            \n",
    "            \n",
    "            \n",
    "            self.psr_set = []\n",
    "            for a in range(len(sharpe_ratio)):\n",
    "                sr = sharpe_ratio[a]\n",
    "                n = (window_size+self.played_times[a])/window_size\n",
    "                skewness = skew(portfolio_reward[a, :])\n",
    "                kurto = kurtosis(portfolio_reward[a, :])\n",
    "                nomin = (sr-np.mean(sharpe_ratio))*np.sqrt(n)\n",
    "                denom = np.sqrt(np.abs((1 + 0.5*sr**2 - skewness*sr + ((kurto-3)/4)*sr**2))/(n-1))\n",
    "                #psr = norm.cdf(nomin/denom)\n",
    "                self.psr_set.append(nomin/denom)\n",
    "            #self.psr_set = scl.fit_transform(np.array(self.psr_set).reshape(-1,1)).reshape(-1)\n",
    "            self.psr_set = np.array([norm.cdf(a) for a in self.psr_set])\n",
    "            self.psr[t] = self.psr_set\n",
    "            \n",
    "            # Compute the upper bound of expected reward\n",
    "            #sharpe_ratio_upper_bound = sharpe_ratio + np.sqrt((2*np.log(t))/(window_size+self.played_times))\n",
    "            sharpe_ratio_upper_bound = (sharpe_ratio + \\\n",
    "                np.sqrt((2*np.log(t))/(window_size+self.played_times)))*np.array(self.psr_set)\n",
    "            \n",
    "            action1 = np.argmax(sharpe_ratio_upper_bound[:l])\n",
    "            action2 = np.argmax(sharpe_ratio_upper_bound[l:])+l\n",
    "            \n",
    "            # Select the optimal arm\n",
    "            #action1 = np.argmax(self.psr_set[:l])\n",
    "            #action2 = np.argmax(self.psr_set[l:])+l\n",
    "\n",
    "            self.played_times[action1] += 1\n",
    "            self.played_times[action2] += 1\n",
    "\n",
    "            # Optimal weight\n",
    "            Adiag = ANew.diagonal()\n",
    "            theta = Adiag[action1] / (Adiag[action1] + Adiag[action2])\n",
    "            self.weight = (1-theta)*H[:,action1] + theta*H[:,action2]\n",
    "            \n",
    "            self.reward[t-window_size] = self.weight.dot(self.R[:,t])\n",
    "    def PSR(self, window_size):\n",
    "        self.reward = np.ones(self.n_samples - window_size)\n",
    "        self.played_times = np.ones(self.n_arms)\n",
    "        self.psr = {}\n",
    "        \n",
    "        for t in range(window_size, self.n_samples):\n",
    "            sliceR = self.R[:, t-window_size:t]\n",
    "            \n",
    "            # Compute the covariance matrix\n",
    "            covariance_matrix =  np.cov(sliceR)\n",
    "            \n",
    "            # Eigenvalue Decomposition\n",
    "            A, H = np.linalg.eig(covariance_matrix)\n",
    "            \n",
    "            # All eigenvalues are positive\n",
    "            assert(np.sum(A<0) == 0)\n",
    "            \n",
    "            # Sort the eigenvalues\n",
    "            idx = np.argsort(-A)\n",
    "            A = np.diag(A[idx])\n",
    "            H = H[:,idx]\n",
    "            l = np.argwhere(np.median(np.diag(A)) > np.diag(A))[0][0]\n",
    "            \n",
    "            # Normalized weight\n",
    "            H /= np.sum(H, axis= 0)\n",
    "            ANew =  H.T.dot(covariance_matrix).dot(H)\n",
    "            \n",
    "            # Compute the sharpe ratio\n",
    "            portfolio_reward = H.T.dot(sliceR)\n",
    "\n",
    "            \n",
    "            sharpe_ratio = (np.mean(portfolio_reward, axis=1) / np.sqrt(ANew.diagonal()))\n",
    "            scl = MinMaxScaler(feature_range=(-3,3))\n",
    "            #sharpe_ratio = scl.fit_transform(sharpe_ratio.reshape(-1,1)).reshape(-1)\n",
    "            \n",
    "            self.psr_set = []\n",
    "            #psr_second_set = []\n",
    "            for a in range(len(sharpe_ratio)):\n",
    "                sr = sharpe_ratio[a]\n",
    "                n = (window_size+self.played_times[a])/window_size\n",
    "                skewness = skew(portfolio_reward[a, :])\n",
    "                kurto = kurtosis(portfolio_reward[a, :])\n",
    "                nomin = (sr-np.mean(sharpe_ratio))*np.sqrt(n-1)\n",
    "                denom = np.sqrt(np.abs(1-(skewness*sr) + ((kurto-1)/4)*(sr**2)))\n",
    "                #psr = norm.cdf(nomin/denom)\n",
    "                self.psr_set.append(nomin/denom)\n",
    "                \n",
    "            self.psr_set = np.array([norm.cdf(a) for a in self.psr_set])\n",
    "            self.psr[t] = self.psr_set\n",
    "            \n",
    "            # Compute the upper bound of expected reward\n",
    "            #sharpe_ratio_upper_bound = sharpe_ratio + np.sqrt((2*np.log(t))/(window_size+self.played_times))\n",
    "            #sharpe_ratio_upper_bound = (sharpe_ratio + \\\n",
    "            #    np.sqrt((2*np.log(t))/(window_size+self.played_times)))*np.array(self.psr_set)\n",
    "            \n",
    "            #action1 = np.argmax(sharpe_ratio_upper_bound[:l])\n",
    "            #action2 = np.argmax(sharpe_ratio_upper_bound[l:])+l\n",
    "            \n",
    "            # Select the optimal arm\n",
    "            action1 = np.argmax(self.psr_set[:l])\n",
    "            action2 = np.argmax(self.psr_set[l:])+l\n",
    "\n",
    "            self.played_times[action1] += 1\n",
    "            self.played_times[action2] += 1\n",
    "\n",
    "            # Optimal weight\n",
    "            Adiag = ANew.diagonal()\n",
    "            theta = Adiag[action1] / (Adiag[action1] + Adiag[action2])\n",
    "            self.weight = (1-theta)*H[:,action1] + theta*H[:,action2]\n",
    "            \n",
    "            self.reward[t-window_size] = self.weight.dot(self.R[:,t])"
   ]
  },
  {
   "cell_type": "code",
   "execution_count": null,
   "metadata": {
    "ExecuteTime": {
     "end_time": "2020-06-09T22:42:39.574494Z",
     "start_time": "2020-06-09T22:42:39.555816Z"
    }
   },
   "outputs": [],
   "source": [
    "window_size = 120\n",
    "orthogonal_bandit_portfolio = BanditPortfolio(R)"
   ]
  },
  {
   "cell_type": "code",
   "execution_count": null,
   "metadata": {
    "ExecuteTime": {
     "end_time": "2020-06-09T22:43:24.481551Z",
     "start_time": "2020-06-09T22:43:08.343987Z"
    }
   },
   "outputs": [],
   "source": [
    "orthogonal_bandit_portfolio.UCB(window_size = window_size)\n",
    "ucb_ret = orthogonal_bandit_portfolio.reward"
   ]
  },
  {
   "cell_type": "code",
   "execution_count": null,
   "metadata": {
    "ExecuteTime": {
     "end_time": "2020-06-09T22:50:16.173862Z",
     "start_time": "2020-06-09T22:43:29.232107Z"
    }
   },
   "outputs": [],
   "source": [
    "orthogonal_bandit_portfolio.TS(window_size = window_size)\n",
    "ts_ret = orthogonal_bandit_portfolio.reward\n",
    "mv_ret = orthogonal_bandit_portfolio.mv_reward"
   ]
  },
  {
   "cell_type": "code",
   "execution_count": null,
   "metadata": {
    "ExecuteTime": {
     "end_time": "2020-06-09T22:56:45.128774Z",
     "start_time": "2020-06-09T22:50:16.402520Z"
    }
   },
   "outputs": [],
   "source": [
    "orthogonal_bandit_portfolio.PSR(window_size = window_size)\n",
    "psr_ret = orthogonal_bandit_portfolio.reward"
   ]
  },
  {
   "cell_type": "code",
   "execution_count": null,
   "metadata": {
    "ExecuteTime": {
     "end_time": "2020-06-09T23:04:15.060101Z",
     "start_time": "2020-06-09T22:56:45.339132Z"
    }
   },
   "outputs": [],
   "source": [
    "orthogonal_bandit_portfolio.UCBPSR(window_size = window_size)\n",
    "ucbpsr_ret = orthogonal_bandit_portfolio.reward"
   ]
  },
  {
   "cell_type": "code",
   "execution_count": null,
   "metadata": {
    "ExecuteTime": {
     "end_time": "2020-06-09T22:42:49.817385Z",
     "start_time": "2020-06-09T22:42:43.696Z"
    }
   },
   "outputs": [],
   "source": [
    "#Baseline\n",
    "constant_weight_rebalance = np.cumprod(R[:,window_size:].mean(axis=0))\n",
    "equal_weight_portfolio = np.mean(np.cumprod(R[:,window_size:], axis=1), axis=0)b\n",
    "\n",
    "date = data_daily.index.values[window_size:]"
   ]
  },
  {
   "cell_type": "code",
   "execution_count": null,
   "metadata": {
    "ExecuteTime": {
     "end_time": "2020-06-09T23:05:52.440321Z",
     "start_time": "2020-06-09T23:05:52.436428Z"
    }
   },
   "outputs": [],
   "source": [
    "ew_ret = np.mean(R[:,window_size:], axis=0)"
   ]
  },
  {
   "cell_type": "code",
   "execution_count": null,
   "metadata": {
    "ExecuteTime": {
     "end_time": "2020-06-09T23:06:01.478448Z",
     "start_time": "2020-06-09T23:06:01.474479Z"
    }
   },
   "outputs": [],
   "source": [
    "mv_ret.shape"
   ]
  },
  {
   "cell_type": "code",
   "execution_count": 8,
   "metadata": {
    "ExecuteTime": {
     "end_time": "2020-06-09T23:06:03.238539Z",
     "start_time": "2020-06-09T23:06:03.235518Z"
    }
   },
   "outputs": [
    {
     "ename": "NameError",
     "evalue": "name 'mv_ret' is not defined",
     "output_type": "error",
     "traceback": [
      "\u001b[0;31m---------------------------------------------------------------------------\u001b[0m",
      "\u001b[0;31mNameError\u001b[0m                                 Traceback (most recent call last)",
      "Cell \u001b[0;32mIn[8], line 2\u001b[0m\n\u001b[0;32m----> 2\u001b[0m all_rets \u001b[38;5;241m=\u001b[39m {\u001b[38;5;124m\"\u001b[39m\u001b[38;5;124mMVP\u001b[39m\u001b[38;5;124m\"\u001b[39m: \u001b[43mmv_ret\u001b[49m, \u001b[38;5;124m\"\u001b[39m\u001b[38;5;124mEW\u001b[39m\u001b[38;5;124m\"\u001b[39m: ew_ret, \u001b[38;5;124m\"\u001b[39m\u001b[38;5;124mUCB1\u001b[39m\u001b[38;5;124m\"\u001b[39m: ucb_ret, \u001b[38;5;124m\"\u001b[39m\u001b[38;5;124mTS\u001b[39m\u001b[38;5;124m\"\u001b[39m: ts_ret, \u001b[38;5;124m\"\u001b[39m\u001b[38;5;124mMaxPSR\u001b[39m\u001b[38;5;124m\"\u001b[39m: psr_ret, \u001b[38;5;124m\"\u001b[39m\u001b[38;5;124mPW-UCB1\u001b[39m\u001b[38;5;124m\"\u001b[39m: ucbpsr_ret} \n",
      "\u001b[0;31mNameError\u001b[0m: name 'mv_ret' is not defined"
     ]
    }
   ],
   "source": [
    "\n",
    "all_rets = {\"MVP\": mv_ret, \"EW\": ew_ret, \"UCB1\": ucb_ret, \"TS\": ts_ret, \"MaxPSR\": psr_ret, \"PW-UCB1\": ucbpsr_ret} "
   ]
  },
  {
   "cell_type": "code",
   "execution_count": null,
   "metadata": {
    "ExecuteTime": {
     "end_time": "2020-06-09T23:06:17.666296Z",
     "start_time": "2020-06-09T23:06:17.657738Z"
    }
   },
   "outputs": [],
   "source": [
    "z = pd.DataFrame(all_rets)-1"
   ]
  },
  {
   "cell_type": "code",
   "execution_count": null,
   "metadata": {
    "ExecuteTime": {
     "end_time": "2020-06-09T23:06:47.407395Z",
     "start_time": "2020-06-09T23:06:47.255972Z"
    }
   },
   "outputs": [],
   "source": [
    "z.to_csv(\"new_rets.csv\")"
   ]
  },
  {
   "cell_type": "code",
   "execution_count": null,
   "metadata": {
    "ExecuteTime": {
     "end_time": "2020-06-08T22:18:41.537465Z",
     "start_time": "2020-06-08T22:18:41.533349Z"
    }
   },
   "outputs": [],
   "source": [
    "\n",
    "all_wealth = {\"MVP\": mv_wealth, \"CWR\": constant_weight_rebalance, \"EW\": equal_weight_portfolio, \"UCB1\": ucb_wealth, \"TS\": ts_wealth, \"MaxPSR\": psr_wealth, \"PW-UCB1\": ucbpsr_wealth} "
   ]
  },
  {
   "cell_type": "code",
   "execution_count": null,
   "metadata": {
    "ExecuteTime": {
     "end_time": "2020-06-08T22:18:43.779684Z",
     "start_time": "2020-06-08T22:18:43.709443Z"
    }
   },
   "outputs": [],
   "source": [
    "results = pd.DataFrame(all_wealth)\n",
    "results_pct = results.pct_change().dropna()"
   ]
  },
  {
   "cell_type": "code",
   "execution_count": null,
   "metadata": {
    "ExecuteTime": {
     "end_time": "2020-06-09T04:29:19.181734Z",
     "start_time": "2020-06-09T04:29:19.169964Z"
    }
   },
   "outputs": [],
   "source": [
    "results_pct"
   ]
  },
  {
   "cell_type": "code",
   "execution_count": null,
   "metadata": {
    "ExecuteTime": {
     "end_time": "2020-06-09T04:36:54.173102Z",
     "start_time": "2020-06-09T04:36:54.161642Z"
    }
   },
   "outputs": [],
   "source": [
    "results_pct.std()*100*np.sqrt(252)"
   ]
  },
  {
   "cell_type": "code",
   "execution_count": null,
   "metadata": {
    "ExecuteTime": {
     "end_time": "2020-06-08T22:18:47.239149Z",
     "start_time": "2020-06-08T22:18:47.235574Z"
    }
   },
   "outputs": [],
   "source": [
    "results.index = date"
   ]
  },
  {
   "cell_type": "code",
   "execution_count": null,
   "metadata": {
    "ExecuteTime": {
     "end_time": "2020-06-08T22:18:49.231215Z",
     "start_time": "2020-06-08T22:18:49.227733Z"
    }
   },
   "outputs": [],
   "source": [
    "results_pct.index = date[1:]"
   ]
  },
  {
   "cell_type": "code",
   "execution_count": null,
   "metadata": {
    "ExecuteTime": {
     "end_time": "2020-06-08T22:18:51.266118Z",
     "start_time": "2020-06-08T22:18:51.259450Z"
    }
   },
   "outputs": [],
   "source": [
    "years = pd.date_range(start=\"1974\", end=\"2019\", freq=\"y\").year\n",
    "years = [str(a) for a in years]"
   ]
  },
  {
   "cell_type": "code",
   "execution_count": null,
   "metadata": {
    "ExecuteTime": {
     "end_time": "2020-06-08T22:18:53.681796Z",
     "start_time": "2020-06-08T22:18:53.285175Z"
    }
   },
   "outputs": [],
   "source": [
    "yearly_sharpes = {}\n",
    "\n",
    "for col in results_pct.columns:\n",
    "    col_ = {}\n",
    "    for a in range(1, len(years)):\n",
    "        col_[years[a]] = np.sqrt(252)*np.mean(results_pct.loc[years[a-1]:years[a], col])/np.std(results_pct.loc[years[a-1]:years[a], col])\n",
    "    yearly_sharpes[col] = col_"
   ]
  },
  {
   "cell_type": "code",
   "execution_count": null,
   "metadata": {
    "ExecuteTime": {
     "end_time": "2020-06-08T22:18:55.616342Z",
     "start_time": "2020-06-08T22:18:55.610651Z"
    }
   },
   "outputs": [],
   "source": [
    "yearly_sharpes = pd.DataFrame(yearly_sharpes)"
   ]
  },
  {
   "cell_type": "code",
   "execution_count": null,
   "metadata": {
    "ExecuteTime": {
     "end_time": "2020-06-09T04:06:20.485551Z",
     "start_time": "2020-06-09T04:06:20.242941Z"
    }
   },
   "outputs": [],
   "source": [
    "results_pct.to_csv(\"pct_changes.csv\")"
   ]
  },
  {
   "cell_type": "code",
   "execution_count": null,
   "metadata": {
    "ExecuteTime": {
     "end_time": "2020-06-08T22:18:57.624991Z",
     "start_time": "2020-06-08T22:18:57.616383Z"
    }
   },
   "outputs": [],
   "source": [
    "yearly_sharpes.mean().sort_values(ascending=False)"
   ]
  },
  {
   "cell_type": "code",
   "execution_count": null,
   "metadata": {
    "ExecuteTime": {
     "end_time": "2020-06-08T22:18:59.589990Z",
     "start_time": "2020-06-08T22:18:59.578603Z"
    }
   },
   "outputs": [],
   "source": [
    "((np.mean(results_pct)/np.std(results_pct))*np.sqrt(252)).sort_values(ascending=False)"
   ]
  },
  {
   "cell_type": "code",
   "execution_count": null,
   "metadata": {
    "ExecuteTime": {
     "end_time": "2020-06-09T03:34:07.184725Z",
     "start_time": "2020-06-09T03:34:07.179056Z"
    }
   },
   "outputs": [],
   "source": [
    "results.loc[\"1984\":\"1994\", :]"
   ]
  },
  {
   "cell_type": "code",
   "execution_count": null,
   "metadata": {
    "ExecuteTime": {
     "end_time": "2020-06-09T22:39:11.991787Z",
     "start_time": "2020-06-09T22:39:11.749631Z"
    }
   },
   "outputs": [],
   "source": [
    "results.to_csv(\"results.csv\")"
   ]
  },
  {
   "cell_type": "code",
   "execution_count": null,
   "metadata": {
    "ExecuteTime": {
     "end_time": "2020-06-09T19:18:48.819617Z",
     "start_time": "2020-06-09T19:18:48.780108Z"
    }
   },
   "outputs": [],
   "source": [
    "wealth_74_84 = np.cumprod(pd.DataFrame(np.concatenate((np.ones(\n",
    "    7).reshape(-1, 7), results_pct.loc[\"1974\":\"1984\", :].values+1), axis=0), columns=results_pct.columns, index=pd.date_range(start=results_pct.loc[\"1974\":\"1984\", :].index[0]-pd.Timedelta(\"1d\"), end=results_pct.loc[\"1974\":\"1984\", :].index[-1], periods=results_pct.loc[\"1974\":\"1984\", :].shape[0]+1).date))\n",
    "\n",
    "wealth_84_94 = np.cumprod(pd.DataFrame(np.concatenate((np.ones(\n",
    "    7).reshape(-1, 7), results_pct.loc[\"1984\":\"1994\", :].values+1), axis=0), columns=results_pct.columns, index=pd.date_range(start=results_pct.loc[\"1984\":\"1994\", :].index[0]-pd.Timedelta(\"1d\"), end=results_pct.loc[\"1984\":\"1994\", :].index[-1], periods=results_pct.loc[\"1984\":\"1994\", :].shape[0]+1).date))\n",
    "\n",
    "wealth_94_04 = np.cumprod(pd.DataFrame(np.concatenate((np.ones(\n",
    "    7).reshape(-1, 7), results_pct.loc[\"1994\":\"2004\", :].values+1), axis=0), columns=results_pct.columns, index=pd.date_range(start=results_pct.loc[\"1994\":\"2004\", :].index[0]-pd.Timedelta(\"1d\"), end=results_pct.loc[\"1994\":\"2004\", :].index[-1], periods=results_pct.loc[\"1994\":\"2004\", :].shape[0]+1).date))\n",
    "\n",
    "wealth_04_14 = np.cumprod(pd.DataFrame(np.concatenate((np.ones(\n",
    "    7).reshape(-1, 7), results_pct.loc[\"2004\":\"2014\", :].values+1), axis=0), columns=results_pct.columns, index=pd.date_range(start=results_pct.loc[\"2004\":\"2014\", :].index[0]-pd.Timedelta(\"1d\"), end=results_pct.loc[\"2004\":\"2014\", :].index[-1], periods=results_pct.loc[\"2004\":\"2014\", :].shape[0]+1).date))\n",
    "\n",
    "wealth_14_20 = np.cumprod(pd.DataFrame(np.concatenate((np.ones(\n",
    "    7).reshape(-1, 7), results_pct.loc[\"2014\":\"2020\", :].values+1), axis=0), columns=results_pct.columns, index=pd.date_range(start=results_pct.loc[\"2014\":\"2020\", :].index[0]-pd.Timedelta(\"1d\"), end=results_pct.loc[\"2014\":\"2020\", :].index[-1], periods=results_pct.loc[\"2014\":\"2020\", :].shape[0]+1).date))"
   ]
  },
  {
   "cell_type": "code",
   "execution_count": null,
   "metadata": {
    "ExecuteTime": {
     "end_time": "2020-06-09T05:09:19.354351Z",
     "start_time": "2020-06-09T05:09:07.065293Z"
    }
   },
   "outputs": [],
   "source": [
    "sns.set(style=\"whitegrid\", font_scale=3.2)\n",
    "plt.figure(figsize=(60, 25))\n",
    "ax = sns.lineplot(data=results, palette=\"bright\", linewidth=2.7, dashes=dash_styles)\n",
    "ax.set(xlabel=\"Date\", ylabel='Cum. Wealth', title=\"FF48 Algo. Comparison\");\n",
    "ax.figure.savefig(\"output.png\")"
   ]
  },
  {
   "cell_type": "code",
   "execution_count": null,
   "metadata": {},
   "outputs": [],
   "source": [
    "import seaborn as sns\n",
    "\n",
    "dash_styles = [\"\",\n",
    "               (4, 1.5),\n",
    "               (1, 1),\n",
    "               (3, 1, 1.5, 1),\n",
    "               (5, 1, 1, 1),\n",
    "               (5, 1, 2, 1, 2, 1),\n",
    "               (2, 2, 3, 1.5),\n",
    "               (1, 2.5, 3, 1.2)]\n",
    "\n",
    "\n",
    "\n",
    "sns.set(style=\"whitegrid\", font_scale=3.3)\n",
    "plt.figure(figsize=(60, 100))\n",
    "\n",
    "plt.subplot(5,1,1)\n",
    "ax = sns.lineplot(data=wealth_74_84, palette=\"bright\", linewidth=2.7, dashes=dash_styles)\n",
    "ax.set(ylabel='Cum. Wealth', title=\"FF48 Algo. Comparison\")\n",
    "\n",
    "plt.subplot(5,1,2)\n",
    "ax = sns.lineplot(data=wealth_84_94, palette=\"bright\", linewidth=2.7, dashes=dash_styles)\n",
    "ax.set(ylabel='Cum. Wealth')"
   ]
  },
  {
   "cell_type": "code",
   "execution_count": null,
   "metadata": {
    "ExecuteTime": {
     "end_time": "2020-06-09T20:02:59.691049Z",
     "start_time": "2020-06-09T20:02:33.836258Z"
    },
    "scrolled": false
   },
   "outputs": [],
   "source": [
    "import seaborn as sns\n",
    "\n",
    "dash_styles = [\"\",\n",
    "               (4, 1.5),\n",
    "               (1, 1),\n",
    "               (3, 1, 1.5, 1),\n",
    "               (5, 1, 1, 1),\n",
    "               (5, 1, 2, 1, 2, 1),\n",
    "               (2, 2, 3, 1.5),\n",
    "               (1, 2.5, 3, 1.2)]\n",
    "\n",
    "\n",
    "\n",
    "sns.set(style=\"whitegrid\", font_scale=3.3)\n",
    "plt.figure(figsize=(60, 100))\n",
    "\n",
    "plt.subplot(5,1,1)\n",
    "ax = sns.lineplot(data=wealth_74_84, palette=\"bright\", linewidth=2.7, dashes=dash_styles)\n",
    "ax.set(ylabel='Cum. Wealth', title=\"FF48 Algo. Comparison\")\n",
    "\n",
    "plt.subplot(5,1,2)\n",
    "ax = sns.lineplot(data=wealth_84_94, palette=\"bright\", linewidth=2.7, dashes=dash_styles)\n",
    "ax.set(ylabel='Cum. Wealth')\n",
    "\n",
    "plt.subplot(5,1,3)\n",
    "ax = sns.lineplot(data=wealth_94_04, palette=\"bright\", linewidth=2.7, dashes=dash_styles)\n",
    "ax.set(ylabel='Cum. Wealth')\n",
    "\n",
    "plt.subplot(5,1,4)\n",
    "ax = sns.lineplot(data=wealth_04_14, palette=\"bright\", linewidth=2.7, dashes=dash_styles)\n",
    "ax.set(ylabel='Cum. Wealth')\n",
    "\n",
    "plt.subplot(5,1,5)\n",
    "ax = sns.lineplot(data=wealth_14_20, palette=\"bright\", linewidth=2.7, dashes=dash_styles)\n",
    "ax.set(xlabel=\"Date\", ylabel='Cum. Wealth')\n",
    "ax.figure.savefig(\"output_2.png\")"
   ]
  },
  {
   "cell_type": "code",
   "execution_count": null,
   "metadata": {
    "ExecuteTime": {
     "end_time": "2020-06-09T20:37:31.836755Z",
     "start_time": "2020-06-09T20:37:31.828112Z"
    }
   },
   "outputs": [],
   "source": [
    "yearly_sharpes.to_csv(\"year_sharpes.csv\")"
   ]
  },
  {
   "cell_type": "markdown",
   "metadata": {},
   "source": [
    "# 10-Portfolios - Daily\n"
   ]
  },
  {
   "cell_type": "code",
   "execution_count": null,
   "metadata": {
    "ExecuteTime": {
     "end_time": "2020-06-08T20:55:57.759370Z",
     "start_time": "2020-06-08T20:55:57.738855Z"
    }
   },
   "outputs": [],
   "source": [
    "\n",
    "data_10 = pd.read_csv('/Users/guneykan/Downloads/48_Industry_Portfolios.CSV', index_col=0)\n",
    "\n",
    "data_10 = data_10[('197401' <= data_10.index.values.astype(str)) & (data_10.index.values.astype(str) <= '201912')]\n",
    "\n",
    "data_10.index = pd.to_datetime(data_10.index, format=\"%Y%m\")\n",
    "\n",
    "date_10 = data_10.index.date\n",
    "\n",
    "# The rate of return matrix, fill missing values with 100%\n",
    "R_10 = data_10.values.T.astype(float)\n",
    "R_10[R_10 < -99]\n",
    "R_10 = (R_10 + 100) / 100  # Gross Return"
   ]
  },
  {
   "cell_type": "code",
   "execution_count": null,
   "metadata": {
    "ExecuteTime": {
     "end_time": "2020-06-08T21:00:06.197492Z",
     "start_time": "2020-06-08T21:00:06.194751Z"
    }
   },
   "outputs": [],
   "source": [
    "window_size = 120\n",
    "orthogonal_bandit_portfolio_10 = BanditPortfolio(R_10)"
   ]
  },
  {
   "cell_type": "code",
   "execution_count": null,
   "metadata": {
    "ExecuteTime": {
     "end_time": "2020-06-08T21:00:08.221316Z",
     "start_time": "2020-06-08T21:00:07.695222Z"
    },
    "scrolled": true
   },
   "outputs": [],
   "source": [
    "orthogonal_bandit_portfolio_10.UCB(window_size = window_size)\n",
    "ucb_10_wealth = np.cumprod(orthogonal_bandit_portfolio_10.reward)"
   ]
  },
  {
   "cell_type": "code",
   "execution_count": null,
   "metadata": {
    "ExecuteTime": {
     "end_time": "2020-06-08T21:00:26.867109Z",
     "start_time": "2020-06-08T21:00:09.942244Z"
    },
    "scrolled": true
   },
   "outputs": [],
   "source": [
    "orthogonal_bandit_portfolio_10.UCBPSR(window_size = window_size)\n",
    "ucbpsr_10_wealth = np.cumprod(orthogonal_bandit_portfolio_10.reward)"
   ]
  },
  {
   "cell_type": "code",
   "execution_count": null,
   "metadata": {
    "ExecuteTime": {
     "end_time": "2020-06-08T21:00:45.893550Z",
     "start_time": "2020-06-08T21:00:28.750698Z"
    },
    "scrolled": true
   },
   "outputs": [],
   "source": [
    "orthogonal_bandit_portfolio_10.TS(window_size = window_size)\n",
    "ts_10_wealth = np.cumprod(orthogonal_bandit_portfolio_10.reward)\n",
    "mv_10_wealth = np.cumprod(orthogonal_bandit_portfolio_10.mv_reward)\n"
   ]
  },
  {
   "cell_type": "code",
   "execution_count": null,
   "metadata": {
    "ExecuteTime": {
     "end_time": "2020-06-08T21:01:04.404787Z",
     "start_time": "2020-06-08T21:00:47.806512Z"
    }
   },
   "outputs": [],
   "source": [
    "orthogonal_bandit_portfolio_10.PSR(window_size = window_size)\n",
    "psr_10_wealth = np.cumprod(orthogonal_bandit_portfolio_10.reward)\n"
   ]
  },
  {
   "cell_type": "code",
   "execution_count": null,
   "metadata": {
    "ExecuteTime": {
     "end_time": "2020-06-08T21:01:06.388183Z",
     "start_time": "2020-06-08T21:01:06.383131Z"
    }
   },
   "outputs": [],
   "source": [
    "cw_10_wealth = np.cumprod(R_10[:,window_size:].mean(axis=0))\n",
    "ew_10_wealth = np.mean(np.cumprod(R_10[:,window_size:], axis=1), axis=0)"
   ]
  },
  {
   "cell_type": "code",
   "execution_count": null,
   "metadata": {
    "ExecuteTime": {
     "end_time": "2020-06-08T21:01:08.289741Z",
     "start_time": "2020-06-08T21:01:08.275946Z"
    }
   },
   "outputs": [],
   "source": [
    "all_10_wealth = {\"MVP\": mv_10_wealth, \"CWR\": cw_10_wealth, \"EW\": ew_10_wealth, \"UCB1\": ucb_10_wealth, \"TS\": ts_10_wealth, \"MaxPSR\": psr_10_wealth, \"PW-UCB1\": ucbpsr_10_wealth}\n",
    "\n",
    "results_10 = pd.DataFrame(all_10_wealth)\n",
    "results_pct_10 = results_10.pct_change().dropna()"
   ]
  },
  {
   "cell_type": "code",
   "execution_count": null,
   "metadata": {
    "ExecuteTime": {
     "end_time": "2020-06-08T21:01:10.163050Z",
     "start_time": "2020-06-08T21:01:10.147382Z"
    }
   },
   "outputs": [],
   "source": [
    "results_10"
   ]
  },
  {
   "cell_type": "code",
   "execution_count": null,
   "metadata": {
    "ExecuteTime": {
     "end_time": "2020-06-08T21:01:11.973599Z",
     "start_time": "2020-06-08T21:01:11.970108Z"
    }
   },
   "outputs": [],
   "source": [
    "results_pct_10.index = date_10[window_size+1:]"
   ]
  },
  {
   "cell_type": "code",
   "execution_count": null,
   "metadata": {
    "ExecuteTime": {
     "end_time": "2020-06-08T20:52:37.646351Z",
     "start_time": "2020-06-08T20:52:37.640693Z"
    }
   },
   "outputs": [],
   "source": [
    "years = pd.date_range(start=\"1974\", end=\"2019\", freq=\"y\").year\n",
    "years = [str(a) for a in years]\n",
    "\n",
    "results_pct_10.index = pd.to_datetime(results_pct_10.index)\n"
   ]
  },
  {
   "cell_type": "code",
   "execution_count": null,
   "metadata": {
    "ExecuteTime": {
     "end_time": "2020-06-08T20:52:39.083314Z",
     "start_time": "2020-06-08T20:52:38.778326Z"
    }
   },
   "outputs": [],
   "source": [
    "yearly_sharpes = {}\n",
    "\n",
    "for col in results_pct_10.columns:\n",
    "    col_ = {}\n",
    "    for a in range(1, len(years)):\n",
    "        col_[years[a]] = np.sqrt(12)*np.mean(results_pct_10.loc[years[a-1]:years[a], col])/np.std(results_pct_10.loc[years[a-1]:years[a], col])\n",
    "    yearly_sharpes[col] = col_"
   ]
  },
  {
   "cell_type": "code",
   "execution_count": null,
   "metadata": {
    "ExecuteTime": {
     "end_time": "2020-06-08T20:52:40.168482Z",
     "start_time": "2020-06-08T20:52:40.160339Z"
    }
   },
   "outputs": [],
   "source": [
    "yearly_sharpes = pd.DataFrame(yearly_sharpes)\n",
    "yearly_sharpes.mean().sort_values(ascending=False)"
   ]
  },
  {
   "cell_type": "code",
   "execution_count": null,
   "metadata": {
    "ExecuteTime": {
     "end_time": "2020-06-08T20:55:09.683281Z",
     "start_time": "2020-06-08T20:55:07.399308Z"
    }
   },
   "outputs": [],
   "source": [
    "import seaborn as sns\n",
    "\n",
    "dash_styles = [\"\",\n",
    "               (4, 1.5),\n",
    "               (1, 1),\n",
    "               (3, 1, 1.5, 1),\n",
    "               (5, 1, 1, 1),\n",
    "               (5, 1, 2, 1, 2, 1),\n",
    "               (2, 2, 3, 1.5),\n",
    "               (1, 2.5, 3, 1.2)]\n",
    "sns.set(style=\"whitegrid\", font_scale=2.5)\n",
    "plt.figure(figsize=(40, 18))\n",
    "ax = sns.lineplot(data=results_10, palette=\"bright\", linewidth=2.7, dashes=dash_styles)\n",
    "ax.set(xlabel='Date', ylabel='Cum. Wealth', title=\"FF10 Algo. Comparison\")"
   ]
  },
  {
   "cell_type": "markdown",
   "metadata": {},
   "source": [
    "# 5-Port. Daily"
   ]
  },
  {
   "cell_type": "code",
   "execution_count": null,
   "metadata": {
    "ExecuteTime": {
     "end_time": "2020-06-08T20:13:32.498709Z",
     "start_time": "2020-06-08T20:13:32.419902Z"
    }
   },
   "outputs": [],
   "source": [
    "\n",
    "data_30 = pd.read_csv('/Users/guneykan/Downloads/5_Industry_Portfolios_Daily.CSV', index_col=0)\n",
    "\n",
    "data_30 = data_30[('197401' <= data_30.index.values.astype(str)) & (data_30.index.values.astype(str) <= '201912')]\n",
    "\n",
    "data_30.index = pd.to_datetime(data_30.index, format=\"%Y%m%d\")\n",
    "\n",
    "date_30 = data_30.index.date\n",
    "\n",
    "# The rate of return matrix, fill missing values with 100%\n",
    "R_30 = data_30.values.T.astype(np.float)\n",
    "#R_30[R_30 < -99]\n",
    "R_30 = (R_30 + 100) / 100  # Gross Return"
   ]
  },
  {
   "cell_type": "code",
   "execution_count": null,
   "metadata": {
    "ExecuteTime": {
     "end_time": "2020-06-08T20:13:33.525142Z",
     "start_time": "2020-06-08T20:13:33.516376Z"
    }
   },
   "outputs": [],
   "source": [
    "window_size = 120\n",
    "orthogonal_bandit_portfolio_30 = BanditPortfolio(R_30)"
   ]
  },
  {
   "cell_type": "code",
   "execution_count": null,
   "metadata": {
    "ExecuteTime": {
     "end_time": "2020-06-08T20:13:39.776048Z",
     "start_time": "2020-06-08T20:13:34.639807Z"
    }
   },
   "outputs": [],
   "source": [
    "orthogonal_bandit_portfolio_30.UCB(window_size = window_size)\n",
    "ucb_30_wealth = np.cumprod(orthogonal_bandit_portfolio_30.reward)"
   ]
  },
  {
   "cell_type": "code",
   "execution_count": null,
   "metadata": {
    "ExecuteTime": {
     "end_time": "2020-06-08T20:14:28.838785Z",
     "start_time": "2020-06-08T20:13:41.080884Z"
    }
   },
   "outputs": [],
   "source": [
    "orthogonal_bandit_portfolio_30.UCBPSR(window_size = window_size)\n",
    "ucbpsr_30_wealth = np.cumprod(orthogonal_bandit_portfolio_30.reward)"
   ]
  },
  {
   "cell_type": "code",
   "execution_count": null,
   "metadata": {
    "ExecuteTime": {
     "end_time": "2020-06-08T20:15:18.274174Z",
     "start_time": "2020-06-08T20:14:30.016403Z"
    }
   },
   "outputs": [],
   "source": [
    "orthogonal_bandit_portfolio_30.TS(window_size = window_size)\n",
    "ts_30_wealth = np.cumprod(orthogonal_bandit_portfolio_30.reward)\n",
    "mv_30_wealth = np.cumprod(orthogonal_bandit_portfolio_30.mv_reward)\n"
   ]
  },
  {
   "cell_type": "code",
   "execution_count": null,
   "metadata": {
    "ExecuteTime": {
     "end_time": "2020-06-08T20:16:02.779409Z",
     "start_time": "2020-06-08T20:15:19.299070Z"
    }
   },
   "outputs": [],
   "source": [
    "orthogonal_bandit_portfolio_30.PSR(window_size = window_size)\n",
    "psr_30_wealth = np.cumprod(orthogonal_bandit_portfolio_30.reward)"
   ]
  },
  {
   "cell_type": "code",
   "execution_count": null,
   "metadata": {
    "ExecuteTime": {
     "end_time": "2020-06-08T20:16:04.129782Z",
     "start_time": "2020-06-08T20:16:04.125097Z"
    }
   },
   "outputs": [],
   "source": [
    "cw_30_wealth = np.cumprod(R_30[:,window_size:].mean(axis=0))\n",
    "ew_30_wealth = np.mean(np.cumprod(R_30[:,window_size:], axis=1), axis=0)"
   ]
  },
  {
   "cell_type": "code",
   "execution_count": null,
   "metadata": {
    "ExecuteTime": {
     "end_time": "2020-06-08T20:16:05.514063Z",
     "start_time": "2020-06-08T20:16:05.493684Z"
    }
   },
   "outputs": [],
   "source": [
    "date_30 = data_30.index.values[window_size:]\n",
    "all_30_wealth = {\"MVP\": mv_30_wealth, \"CWR\": cw_30_wealth, \"EW\": ew_30_wealth, \"UCB1\": ucb_30_wealth, \"TS\": ts_30_wealth, \"MaxPSR\": psr_30_wealth, \"PW-UCB1\": ucbpsr_30_wealth}\n",
    "\n",
    "results_30 = pd.DataFrame(all_30_wealth)\n",
    "results_pct_30 = results_30.pct_change().dropna()\n",
    "results_30.index = date_30\n",
    "results_pct_30.index = date_30[1:]"
   ]
  },
  {
   "cell_type": "code",
   "execution_count": null,
   "metadata": {
    "ExecuteTime": {
     "end_time": "2020-06-08T20:33:57.959405Z",
     "start_time": "2020-06-08T20:33:57.656250Z"
    }
   },
   "outputs": [],
   "source": [
    "\n",
    "\n",
    "years = pd.date_range(start=\"1974\", end=\"2019\", freq=\"y\").year\n",
    "years = [str(a) for a in years]\n",
    "\n",
    "results_pct_30.index = pd.to_datetime(results_pct_30.index)\n",
    "\n",
    "yearly_sharpes = {}\n",
    "\n",
    "for col in results_pct_30.columns:\n",
    "    col_ = {}\n",
    "    for a in range(1, len(years)):\n",
    "        col_[years[a]] = np.sqrt(252)*np.mean(results_pct_30.loc[years[a-1]:years[a], col])/np.std(results_pct_30.loc[years[a-1]:years[a], col])\n",
    "    yearly_sharpes[col] = col_\n",
    "    \n",
    "yearly_sharpes = pd.DataFrame(yearly_sharpes)\n",
    "yearly_sharpes.mean().sort_values(ascending=False)"
   ]
  },
  {
   "cell_type": "code",
   "execution_count": null,
   "metadata": {
    "ExecuteTime": {
     "end_time": "2020-06-08T20:16:20.382127Z",
     "start_time": "2020-06-08T20:16:06.853923Z"
    }
   },
   "outputs": [],
   "source": [
    "import seaborn as sns\n",
    "\n",
    "dash_styles = [\"\",\n",
    "               (4, 1.5),\n",
    "               (1, 1),\n",
    "               (3, 1, 1.5, 1),\n",
    "               (5, 1, 1, 1),\n",
    "               (5, 1, 2, 1, 2, 1),\n",
    "               (2, 2, 3, 1.5),\n",
    "               (1, 2.5, 3, 1.2)]\n",
    "sns.set(style=\"whitegrid\", font_scale=2.5)\n",
    "plt.figure(figsize=(40, 18))\n",
    "ax = sns.lineplot(data=results_30, palette=\"bright\", linewidth=2.7, dashes=dash_styles)\n",
    "ax.set(xlabel='Date', ylabel='Cum. Wealth', title=\"FF30 Algo. Comparison\")"
   ]
  },
  {
   "cell_type": "code",
   "execution_count": null,
   "metadata": {},
   "outputs": [],
   "source": []
  }
 ],
 "metadata": {
  "hide_input": false,
  "kernelspec": {
   "display_name": ".venv",
   "language": "python",
   "name": "python3"
  },
  "language_info": {
   "codemirror_mode": {
    "name": "ipython",
    "version": 3
   },
   "file_extension": ".py",
   "mimetype": "text/x-python",
   "name": "python",
   "nbconvert_exporter": "python",
   "pygments_lexer": "ipython3",
   "version": "3.9.6"
  },
  "toc": {
   "base_numbering": 1,
   "nav_menu": {},
   "number_sections": true,
   "sideBar": true,
   "skip_h1_title": false,
   "title_cell": "Table of Contents",
   "title_sidebar": "Contents",
   "toc_cell": false,
   "toc_position": {},
   "toc_section_display": true,
   "toc_window_display": false
  },
  "varInspector": {
   "cols": {
    "lenName": 16,
    "lenType": 16,
    "lenVar": 40
   },
   "kernels_config": {
    "python": {
     "delete_cmd_postfix": "",
     "delete_cmd_prefix": "del ",
     "library": "var_list.py",
     "varRefreshCmd": "print(var_dic_list())"
    },
    "r": {
     "delete_cmd_postfix": ") ",
     "delete_cmd_prefix": "rm(",
     "library": "var_list.r",
     "varRefreshCmd": "cat(var_dic_list()) "
    }
   },
   "types_to_exclude": [
    "module",
    "function",
    "builtin_function_or_method",
    "instance",
    "_Feature"
   ],
   "window_display": false
  }
 },
 "nbformat": 4,
 "nbformat_minor": 4
}
