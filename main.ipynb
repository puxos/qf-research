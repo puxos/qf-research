{
 "cells": [
  {
   "cell_type": "code",
   "execution_count": null,
   "metadata": {},
   "outputs": [
    {
     "name": "stdout",
     "output_type": "stream",
     "text": [
      "Dataset: FF48\n",
      "Period: 198501 to 202412\n",
      "Window size: 120\n",
      "Cutoff: 5\n"
     ]
    },
    {
     "ename": "TypeError",
     "evalue": "unsupported operand type(s) for &: 'str' and 'str'",
     "output_type": "error",
     "traceback": [
      "\u001b[31m---------------------------------------------------------------------------\u001b[39m",
      "\u001b[31mTypeError\u001b[39m                                 Traceback (most recent call last)",
      "\u001b[36mCell\u001b[39m\u001b[36m \u001b[39m\u001b[32mIn[1]\u001b[39m\u001b[32m, line 22\u001b[39m\n\u001b[32m     19\u001b[39m \u001b[38;5;28mprint\u001b[39m(\u001b[33mf\u001b[39m\u001b[33m'\u001b[39m\u001b[33mWindow size: \u001b[39m\u001b[38;5;132;01m{\u001b[39;00mwindow_size\u001b[38;5;132;01m}\u001b[39;00m\u001b[33m'\u001b[39m)\n\u001b[32m     20\u001b[39m \u001b[38;5;28mprint\u001b[39m(\u001b[33mf\u001b[39m\u001b[33m'\u001b[39m\u001b[33mCutoff: \u001b[39m\u001b[38;5;132;01m{\u001b[39;00mcutoff\u001b[38;5;132;01m}\u001b[39;00m\u001b[33m'\u001b[39m)\n\u001b[32m---> \u001b[39m\u001b[32m22\u001b[39m data_daily = \u001b[43mget_trimmed_data\u001b[49m\u001b[43m(\u001b[49m\u001b[43m)\u001b[49m\n\u001b[32m     24\u001b[39m \u001b[38;5;66;03m# The rate of return matrix, fill the missing values with 100%\u001b[39;00m\n\u001b[32m     25\u001b[39m Return = data_daily.values.T.astype(\u001b[38;5;28mfloat\u001b[39m)\n",
      "\u001b[36mFile \u001b[39m\u001b[32m~/Projects/qf-research/experiment.py:42\u001b[39m, in \u001b[36mget_trimmed_data\u001b[39m\u001b[34m()\u001b[39m\n\u001b[32m     40\u001b[39m     trimmed_data = data.iloc[start_loc - window_size : end_loc + \u001b[32m1\u001b[39m]\n\u001b[32m     41\u001b[39m \u001b[38;5;28;01melse\u001b[39;00m:\n\u001b[32m---> \u001b[39m\u001b[32m42\u001b[39m     trimmed_data = data.iloc[\u001b[43mstart_date\u001b[49m\u001b[43m \u001b[49m\u001b[43m&\u001b[49m\u001b[43m \u001b[49m\u001b[43mend_date\u001b[49m]\n\u001b[32m     44\u001b[39m \u001b[38;5;66;03m# Convert the index to datetime format\u001b[39;00m\n\u001b[32m     45\u001b[39m trimmed_data.index = pd.to_datetime(trimmed_data.index, \u001b[38;5;28mformat\u001b[39m=\u001b[33m'\u001b[39m\u001b[33m%\u001b[39m\u001b[33mY\u001b[39m\u001b[33m%\u001b[39m\u001b[33mm\u001b[39m\u001b[38;5;132;01m%d\u001b[39;00m\u001b[33m'\u001b[39m)\n",
      "\u001b[31mTypeError\u001b[39m: unsupported operand type(s) for &: 'str' and 'str'"
     ]
    }
   ],
   "source": [
    "import sys\n",
    "import pandas as pd\n",
    "import numpy as np\n",
    "from config import config\n",
    "from experiment import get_trimmed_data, plot_period_cumulative_wealth, plot_full_cumulative_wealth\n",
    "\n",
    "sys.path.append('.')\n",
    "\n",
    "window_size = config.get('parameter.window_size')\n",
    "cutoff = config.get('parameter.cutoff')\n",
    "start_date = config.get('data.period.start')\n",
    "end_date = config.get('data.period.end')\n",
    "start_year = start_date[:4]\n",
    "end_year = end_date[:4]\n",
    "\n",
    "# Display configs\n",
    "print(f'Dataset: {config.get('data.dataset')}')\n",
    "print(f'Period: {start_date} to {end_date}')\n",
    "\n",
    "print(f'Window size: {window_size}')\n",
    "print(f'Cutoff: {cutoff}')\n",
    "\n",
    "data_daily = get_trimmed_data()\n",
    "\n",
    "# The rate of return matrix, fill the missing values with 100%\n",
    "Return = data_daily.values.T.astype(float)\n",
    "Return[Return < -99]\n",
    "Gross_return = (Return + 100) / 100 # Gross Return\n",
    "print(Gross_return.shape)\n",
    "\n",
    "window_size = config.get('parameter.window_size')\n",
    "\n",
    "# Check the first few rows of the dataset\n",
    "data_daily.head()\n"
   ]
  },
  {
   "cell_type": "code",
   "execution_count": null,
   "metadata": {},
   "outputs": [],
   "source": [
    "if config.get('algorithm.ucb'):\n",
    "    from algorithms.ucb import UCB\n",
    "    ucb = UCB(Gross_return, window_size=window_size, cutoff=cutoff)\n",
    "    ucb.run()"
   ]
  },
  {
   "cell_type": "code",
   "execution_count": null,
   "metadata": {},
   "outputs": [],
   "source": [
    "if config.get('algorithm.psr'):\n",
    "    from algorithms.psr import PSR\n",
    "    psr = PSR(Gross_return, window_size=window_size, cutoff=cutoff)\n",
    "    psr.run()"
   ]
  },
  {
   "cell_type": "code",
   "execution_count": null,
   "metadata": {},
   "outputs": [],
   "source": [
    "if config.get('algorithm.psr-ucb'):\n",
    "    from algorithms.psr_ucb import PSRUCB\n",
    "    psr_ucb = PSRUCB(Gross_return, window_size=window_size, cutoff=cutoff)\n",
    "    psr_ucb.run()"
   ]
  },
  {
   "cell_type": "code",
   "execution_count": null,
   "metadata": {},
   "outputs": [],
   "source": [
    "if config.get('algorithm.pw-ucb'):\n",
    "    from algorithms.pw_ucb import PWUCB\n",
    "    pw_ucb = PWUCB(Gross_return, window_size=window_size, cutoff=cutoff)\n",
    "    pw_ucb.run()"
   ]
  },
  {
   "cell_type": "code",
   "execution_count": null,
   "metadata": {},
   "outputs": [],
   "source": [
    "# Baseline\n",
    "constant_weight_rebalance = np.cumprod(Gross_return[:, window_size:].mean(axis=0))\n",
    "equal_weight_portfolio = np.mean(np.cumprod(Gross_return[:, window_size:], axis=1), axis=0)\n",
    "\n",
    "date = data_daily.index.values[window_size:]\n",
    "\n",
    "# Minimum variance portfolio (MVP)\n"
   ]
  },
  {
   "cell_type": "code",
   "execution_count": null,
   "metadata": {},
   "outputs": [],
   "source": [
    "ew_reward = np.mean(Gross_return[:, window_size:], axis=0)"
   ]
  },
  {
   "cell_type": "code",
   "execution_count": null,
   "metadata": {},
   "outputs": [],
   "source": [
    "# Save the results\n",
    "all_returns = {\"EW\": ew_reward}\n",
    "\n",
    "# add the results of each algorithm to the all_returns dictionary\n",
    "if config.get('algorithm.ucb'):\n",
    "    all_returns.update({\"UCB\": ucb.reward})\n",
    "if config.get('algorithm.psr'):\n",
    "    all_returns.update({\"PSR\": psr.reward})\n",
    "if config.get('algorithm.psr-ucb'):\n",
    "    all_returns.update({\"PSR-UCB\": psr_ucb.reward})\n",
    "if config.get('algorithm.pw-ucb'):\n",
    "    all_returns.update({\"PW-UCB\": pw_ucb.reward})\n",
    "\n",
    "z = pd.DataFrame(all_returns) - 1\n",
    "z = z.to_csv('./output/new_reward.csv')\n"
   ]
  },
  {
   "cell_type": "code",
   "execution_count": null,
   "metadata": {},
   "outputs": [],
   "source": [
    "# Cumulative wealth\n",
    "cumulative_wealths = {\n",
    "    \"CWR\": constant_weight_rebalance,\n",
    "    \"EW\": equal_weight_portfolio,\n",
    "}\n",
    "if config.get('algorithm.ucb'):\n",
    "    cumulative_wealths.update({\"UCB\": ucb.get_cumulative_wealth()})\n",
    "if config.get('algorithm.psr'): \n",
    "    cumulative_wealths.update({\"PSR\": psr.get_cumulative_wealth()})\n",
    "if config.get('algorithm.psr-ucb'):\n",
    "    cumulative_wealths.update({\"PSR-UCB\": psr_ucb.get_cumulative_wealth()})\n",
    "if config.get('algorithm.pw-ucb'):\n",
    "    cumulative_wealths.update({\"PW-UCB\": pw_ucb.get_cumulative_wealth()})\n",
    "\n",
    "results = pd.DataFrame(cumulative_wealths)\n",
    "# Cumulative wealth\n",
    "results_pct = results.pct_change().dropna()\n"
   ]
  },
  {
   "cell_type": "code",
   "execution_count": null,
   "metadata": {},
   "outputs": [],
   "source": [
    "results_pct"
   ]
  },
  {
   "cell_type": "code",
   "execution_count": null,
   "metadata": {},
   "outputs": [],
   "source": [
    "# Annualized standard deviation\n",
    "results_pct.std() * 100 * np.sqrt(252)"
   ]
  },
  {
   "cell_type": "code",
   "execution_count": null,
   "metadata": {},
   "outputs": [],
   "source": [
    "results.index = date"
   ]
  },
  {
   "cell_type": "code",
   "execution_count": null,
   "metadata": {},
   "outputs": [],
   "source": [
    "results_pct.index = date[1:]"
   ]
  },
  {
   "cell_type": "code",
   "execution_count": null,
   "metadata": {},
   "outputs": [],
   "source": [
    "years = pd.date_range(start=start_year, end=end_year, freq='YE').year\n",
    "years = [str(year) for year in years]"
   ]
  },
  {
   "cell_type": "code",
   "execution_count": null,
   "metadata": {},
   "outputs": [],
   "source": [
    "yearly_sharpes = {}\n",
    "\n",
    "for col in results_pct.columns:\n",
    "    col_ = {}\n",
    "    for a in range(1, len(years)):\n",
    "        col_[years[a]] = np.sqrt(252) * np.mean(results_pct.loc[years[a-1]:years[a], col]) / np.std(results_pct.loc[years[a-1]:years[a], col])\n",
    "    yearly_sharpes[col] = col_"
   ]
  },
  {
   "cell_type": "code",
   "execution_count": null,
   "metadata": {},
   "outputs": [],
   "source": [
    "yearly_sharpes = pd.DataFrame(yearly_sharpes)"
   ]
  },
  {
   "cell_type": "code",
   "execution_count": null,
   "metadata": {},
   "outputs": [],
   "source": [
    "results_pct.to_csv('./output/pct_changes.csv')"
   ]
  },
  {
   "cell_type": "code",
   "execution_count": null,
   "metadata": {},
   "outputs": [],
   "source": [
    "# Annualized Mean Sharpe Ratio\n",
    "yearly_sharpes.mean().sort_values(ascending=False)"
   ]
  },
  {
   "cell_type": "code",
   "execution_count": null,
   "metadata": {},
   "outputs": [],
   "source": [
    "# Yearly Annualized Mean Sharpe Ratio\n",
    "((np.mean(results_pct)/np.std(results_pct))*np.sqrt(252)).sort_values(ascending=False)"
   ]
  },
  {
   "cell_type": "code",
   "execution_count": null,
   "metadata": {},
   "outputs": [],
   "source": [
    "# Cumulative wealths\n",
    "results.loc[\"2015\":\"2024\", :]"
   ]
  },
  {
   "cell_type": "code",
   "execution_count": null,
   "metadata": {},
   "outputs": [],
   "source": [
    "results.to_csv('./output/results.csv')"
   ]
  },
  {
   "cell_type": "code",
   "execution_count": null,
   "metadata": {},
   "outputs": [],
   "source": [
    "# Plotting full period cumulative wealth\n",
    "plot_full_cumulative_wealth(results=results)"
   ]
  },
  {
   "cell_type": "code",
   "execution_count": null,
   "metadata": {},
   "outputs": [],
   "source": [
    "import seaborn as sns\n",
    "import matplotlib.pyplot as plt\n",
    "\n",
    "DASH_STYLES = [\"\",\n",
    "               (4, 1.5),\n",
    "               (1, 1),\n",
    "               (3, 1, 1.5, 1),\n",
    "               (5, 1, 1, 1),\n",
    "               (5, 1, 2, 1, 2, 1),\n",
    "               (2, 2, 3, 1.5),\n",
    "               (1, 2.5, 3, 1.2)]\n",
    "\n",
    "# Plotting periodic cumulative wealth\n",
    "# plot_period_cumulative_wealth(results_pct=results_pct)\n",
    "num_algorithms = len(results_pct.columns)\n",
    "\n",
    "start_year_int = int(start_year)\n",
    "end_year_int = int(end_year)\n",
    "\n",
    "# divide the years into 10-year intervals    \n",
    "interval = config.get('plot.interval')\n",
    "num_plots = (end_year_int - start_year_int + 1) / interval\n",
    "# get integer, 3.0 -> 3, 3.5 -> 4\n",
    "num_plots = int(num_plots) if num_plots.is_integer() else int(num_plots) + 1\n",
    "\n",
    "wealths = {}\n",
    "for i in range(num_plots):\n",
    "    begin = str(start_year_int + i * interval)\n",
    "    stop = str(min(start_year_int + (i+1) * interval - 1, end_year_int))\n",
    "    print(f\"Begin: {begin}, Stop: {stop}\")\n",
    "    print(results_pct.loc[begin:stop, :].index[0])\n",
    "    wealth = np.cumprod(pd.DataFrame(np.concatenate(\n",
    "        (np.ones(num_algorithms).reshape(-1, num_algorithms), \n",
    "            results_pct.loc[begin:stop, :].values+1), axis=0), \n",
    "            columns=results_pct.columns, \n",
    "            index=pd.date_range(start=results_pct.loc[begin:stop, :].index[0]-pd.Timedelta(\"1d\"), \n",
    "                            end=results_pct.loc[begin:stop, :].index[-1], \n",
    "                            periods=results_pct.loc[begin:stop, :].shape[0]+1).date))\n",
    "    \n",
    "    wealths.update({f\"{begin}-{stop}\": wealth})\n",
    "    \n",
    "\n",
    "sns.set_theme(style='whitegrid', font_scale=3.3)\n",
    "\n",
    "for period, wealth_period in wealths.items():\n",
    "    plt.figure(figsize=(60, 25))\n",
    "    ax = sns.lineplot(data=wealth_period, palette=\"bright\", linewidth=2.7, dashes=DASH_STYLES)\n",
    "    ax.set(xlabel='Date', ylabel='Cumulative Wealth', title=f\"{config.get('data.dataset')} Algorithm Comparison ({period})\")\n",
    "    ax.figure.savefig(f\"{config.get('plot.output_dir')}/cw_{period}.png\")\n",
    "    plt.close()\n",
    "\n",
    "\n",
    "\n"
   ]
  },
  {
   "cell_type": "code",
   "execution_count": null,
   "metadata": {},
   "outputs": [],
   "source": [
    "# Graphs\n",
    "# num_algorithms = len(results.columns)\n",
    "\n",
    "# #wealth_75_84 = np.cumprod(pd.DataFrame(np.concatenate((np.ones(num_algorithms).reshape(-1, array_size), results_pct.loc[\"1975\":\"1984\", :].values+1), axis=0), columns=results_pct.columns, index=pd.date_range(start=results_pct.loc[\"1975\":\"1984\", :].index[0]-pd.Timedelta(\"1d\"), end=results_pct.loc[\"1975\":\"1984\", :].index[-1], periods=results_pct.loc[\"1975\":\"1984\", :].shape[0]+1).date))\n",
    "# wealth_85_94 = np.cumprod(pd.DataFrame(np.concatenate((np.ones(num_algorithms).reshape(-1, num_algorithms), results_pct.loc[\"1985\":\"1994\", :].values+1), axis=0), columns=results_pct.columns, index=pd.date_range(start=results_pct.loc[\"1985\":\"1994\", :].index[0]-pd.Timedelta(\"1d\"), end=results_pct.loc[\"1985\":\"1994\", :].index[-1], periods=results_pct.loc[\"1985\":\"1994\", :].shape[0]+1).date))\n",
    "# wealth_95_04 = np.cumprod(pd.DataFrame(np.concatenate((np.ones(num_algorithms).reshape(-1, num_algorithms), results_pct.loc[\"1995\":\"2004\", :].values+1), axis=0), columns=results_pct.columns, index=pd.date_range(start=results_pct.loc[\"1995\":\"2004\", :].index[0]-pd.Timedelta(\"1d\"), end=results_pct.loc[\"1995\":\"2004\", :].index[-1], periods=results_pct.loc[\"1995\":\"2004\", :].shape[0]+1).date))\n",
    "# wealth_05_14 = np.cumprod(pd.DataFrame(np.concatenate((np.ones(num_algorithms).reshape(-1, num_algorithms), results_pct.loc[\"2005\":\"2014\", :].values+1), axis=0), columns=results_pct.columns, index=pd.date_range(start=results_pct.loc[\"2005\":\"2014\", :].index[0]-pd.Timedelta(\"1d\"), end=results_pct.loc[\"2005\":\"2014\", :].index[-1], periods=results_pct.loc[\"2005\":\"2014\", :].shape[0]+1).date))\n",
    "# wealth_15_24 = np.cumprod(pd.DataFrame(np.concatenate((np.ones(num_algorithms).reshape(-1, num_algorithms), results_pct.loc[\"2015\":\"2024\", :].values+1), axis=0), columns=results_pct.columns, index=pd.date_range(start=results_pct.loc[\"2015\":\"2024\", :].index[0]-pd.Timedelta(\"1d\"), end=results_pct.loc[\"2015\":\"2024\", :].index[-1], periods=results_pct.loc[\"2015\":\"2024\", :].shape[0]+1).date))\n",
    "\n",
    "# import seaborn as sns\n",
    "# import matplotlib.pyplot as plt\n",
    "\n",
    "# dash_styles = [\"\",\n",
    "#                (4, 1.5),\n",
    "#                (1, 1),\n",
    "#                (3, 1, 1.5, 1),\n",
    "#                (5, 1, 1, 1),\n",
    "#                (5, 1, 2, 1, 2, 1),\n",
    "#                (2, 2, 3, 1.5),\n",
    "#                (1, 2.5, 3, 1.2)]\n",
    "\n",
    "# sns.set_theme(style=\"whitegrid\", font_scale=3.2)\n",
    "# plt.figure(figsize=(60, 25))\n",
    "# ax = sns.lineplot(data=results, palette=\"bright\", linewidth=2.7, dashes=dash_styles)\n",
    "# ax.set(xlabel=\"Date\", ylabel='Cumulative Wealth', title=\"FF48 Algorithm Comparison\");\n",
    "# ax.figure.savefig(\"./output/cw_overall.png\")\n",
    "\n",
    "# wealth_periods = {\n",
    "#     # \"1975-1984\": wealth_75_84,\n",
    "#     # \"1985-1994\": wealth_85_94,\n",
    "#     # \"1995-2004\": wealth_95_04,\n",
    "#     \"2005-2014\": wealth_05_14,\n",
    "#     \"2015-2024\": wealth_15_24\n",
    "# }\n",
    "\n",
    "# sns.set_theme(style=\"whitegrid\", font_scale=3.3)\n",
    "\n",
    "\n",
    "# for period_name, wealth_period in wealth_periods.items():\n",
    "#     plt.figure(figsize=(60, 25))\n",
    "#     ax = sns.lineplot(data=wealth_period, palette=\"bright\", linewidth=2.7, dashes=dash_styles)\n",
    "#     ax.set(xlabel=\"Date\", ylabel='Cumulative Wealth', title=f\"FF48 Algorithm Comparison ({period_name})\")\n",
    "#     ax.figure.savefig(f'./output/cw_{period_name}.png')\n",
    "#     plt.close()\n",
    "\n",
    "\n",
    "yearly_sharpes.to_csv('./output/year_sharpes.csv')\n"
   ]
  },
  {
   "cell_type": "markdown",
   "metadata": {},
   "source": []
  }
 ],
 "metadata": {
  "kernelspec": {
   "display_name": ".venv",
   "language": "python",
   "name": "python3"
  },
  "language_info": {
   "codemirror_mode": {
    "name": "ipython",
    "version": 3
   },
   "file_extension": ".py",
   "mimetype": "text/x-python",
   "name": "python",
   "nbconvert_exporter": "python",
   "pygments_lexer": "ipython3",
   "version": "3.13.3"
  }
 },
 "nbformat": 4,
 "nbformat_minor": 2
}
