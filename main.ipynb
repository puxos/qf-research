{
 "cells": [
  {
   "cell_type": "code",
   "execution_count": null,
   "metadata": {},
   "outputs": [
    {
     "ename": "AttributeError",
     "evalue": "'numpy.ndarray' object has no attribute 'head'",
     "output_type": "error",
     "traceback": [
      "\u001b[31m---------------------------------------------------------------------------\u001b[39m",
      "\u001b[31mAttributeError\u001b[39m                            Traceback (most recent call last)",
      "\u001b[36mCell\u001b[39m\u001b[36m \u001b[39m\u001b[32mIn[9]\u001b[39m\u001b[32m, line 19\u001b[39m\n\u001b[32m     16\u001b[39m Return[Return < -\u001b[32m99\u001b[39m]\n\u001b[32m     17\u001b[39m Gross_return = (Return + \u001b[32m100\u001b[39m) / \u001b[32m100\u001b[39m \u001b[38;5;66;03m# Gross Return\u001b[39;00m\n\u001b[32m---> \u001b[39m\u001b[32m19\u001b[39m \u001b[43mGross_return\u001b[49m\u001b[43m.\u001b[49m\u001b[43mhead\u001b[49m()\n\u001b[32m     21\u001b[39m \u001b[38;5;66;03m# Check the first few rows of the dataset\u001b[39;00m\n\u001b[32m     22\u001b[39m data_daily.head()\n",
      "\u001b[31mAttributeError\u001b[39m: 'numpy.ndarray' object has no attribute 'head'"
     ]
    }
   ],
   "source": [
    "import sys\n",
    "import pandas as pd\n",
    "\n",
    "sys.path.append('.')\n",
    "data_daily = pd.read_csv('./data/48_Industry_Portfolios_Daily.csv', index_col=0)\n",
    "\n",
    "# Trim the data\n",
    "data_daily = data_daily.iloc[('197401' <= data_daily.index.values.astype(str)) & (data_daily.index.values.astype(str) <= '201712')]\n",
    "\n",
    "# Convert the index to datetime\n",
    "data_daily.index = pd.to_datetime(data_daily.index, format='%Y%m%d')\n",
    "daily_date = data_daily.index.date\n",
    "\n",
    "# The rate of return matrix, fill the missing values with 100%\n",
    "Return = data_daily.values.T.astype(float)\n",
    "Return[Return < -99]\n",
    "Gross_return = (Return + 100) / 100 # Gross Return\n",
    "\n",
    "print(Gross_return.shape)\n",
    "\n",
    "# Check the first few rows of the dataset\n",
    "data_daily.head()"
   ]
  }
 ],
 "metadata": {
  "kernelspec": {
   "display_name": ".venv",
   "language": "python",
   "name": "python3"
  },
  "language_info": {
   "codemirror_mode": {
    "name": "ipython",
    "version": 3
   },
   "file_extension": ".py",
   "mimetype": "text/x-python",
   "name": "python",
   "nbconvert_exporter": "python",
   "pygments_lexer": "ipython3",
   "version": "3.11.11"
  }
 },
 "nbformat": 4,
 "nbformat_minor": 2
}
