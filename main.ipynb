{
 "cells": [
  {
   "cell_type": "code",
   "execution_count": null,
   "metadata": {},
   "outputs": [],
   "source": [
    "import sys\n",
    "import pandas as pd\n",
    "\n",
    "sys.path.append('.')\n",
    "data_daily = pd.read_csv('./data/48_Industry_Portfolios_Daily.csv', index_col=0)\n",
    "\n",
    "# Trim the data\n",
    "data_daily = data_daily.iloc[('197401' <= data_daily.index.values.astype(str)) & (data_daily.index.values.astype(str) <= '202012')]\n",
    "\n",
    "# Convert the index to datetime\n",
    "data_daily.index = pd.to_datetime(data_daily.index, format='%Y%m%d')\n",
    "daily_date = data_daily.index.date\n",
    "\n",
    "# The rate of return matrix, fill the missing values with 100%\n",
    "Return = data_daily.values.T.astype(float)\n",
    "Return[Return < -99]\n",
    "Gross_return = (Return + 100) / 100 # Gross Return\n",
    "\n",
    "print(Gross_return.shape)\n",
    "\n",
    "# Check the first few rows of the dataset\n",
    "data_daily.head()"
   ]
  },
  {
   "cell_type": "code",
   "execution_count": null,
   "metadata": {},
   "outputs": [],
   "source": [
    "from ucb import UCB\n",
    "\n",
    "window_size = 120\n",
    "ucb = UCB(Gross_return, window_size)\n",
    "#ucb.algorithm()\n",
    "ucb.test()\n"
   ]
  },
  {
   "cell_type": "markdown",
   "metadata": {},
   "source": []
  }
 ],
 "metadata": {
  "kernelspec": {
   "display_name": ".venv",
   "language": "python",
   "name": "python3"
  },
  "language_info": {
   "codemirror_mode": {
    "name": "ipython",
    "version": 3
   },
   "file_extension": ".py",
   "mimetype": "text/x-python",
   "name": "python",
   "nbconvert_exporter": "python",
   "pygments_lexer": "ipython3",
   "version": "3.11.11"
  }
 },
 "nbformat": 4,
 "nbformat_minor": 2
}
