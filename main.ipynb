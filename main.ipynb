{
 "cells": [
  {
   "cell_type": "code",
   "execution_count": null,
   "metadata": {},
   "outputs": [],
   "source": [
    "import sys\n",
    "import pandas as pd\n",
    "import numpy as np\n",
    "\n",
    "sys.path.append('.')\n",
    "data_daily = pd.read_csv('./data/48_Industry_Portfolios_Daily.csv', index_col=0)\n",
    "\n",
    "# Trim the data\n",
    "data_daily = data_daily.iloc[('197501' <= data_daily.index.values.astype(str)) & (data_daily.index.values.astype(str) <= '202412')]\n",
    "\n",
    "# Convert the index to datetime\n",
    "data_daily.index = pd.to_datetime(data_daily.index, format='%Y%m%d')\n",
    "daily_date = data_daily.index.date\n",
    "\n",
    "# The rate of return matrix, fill the missing values with 100%\n",
    "Return = data_daily.values.T.astype(float)\n",
    "Return[Return < -99]\n",
    "Gross_return = (Return + 100) / 100 # Gross Return\n",
    "\n",
    "print(Gross_return.shape)\n",
    "\n",
    "# Check the first few rows of the dataset\n",
    "data_daily.head()\n",
    "\n",
    "window_size = 120"
   ]
  },
  {
   "cell_type": "code",
   "execution_count": null,
   "metadata": {},
   "outputs": [],
   "source": [
    "from algorithms.ucb import UCB\n",
    "ucb = UCB(Gross_return, window_size)\n",
    "ucb.run()"
   ]
  },
  {
   "cell_type": "code",
   "execution_count": null,
   "metadata": {},
   "outputs": [],
   "source": [
    "from algorithms.psr import PSR\n",
    "psr = PSR(Gross_return, window_size)\n",
    "psr.run()"
   ]
  },
  {
   "cell_type": "code",
   "execution_count": null,
   "metadata": {},
   "outputs": [],
   "source": [
    "from algorithms.ucb_psr import UCBPSR\n",
    "ucb_psr = UCBPSR(Gross_return, window_size)\n",
    "ucb_psr.run()"
   ]
  },
  {
   "cell_type": "code",
   "execution_count": null,
   "metadata": {},
   "outputs": [],
   "source": [
    "# Baseline\n",
    "constant_weight_rebalance = np.cumprod(Gross_return[:, window_size:].mean(axis=0))\n",
    "equal_weight_portfolio = np.mean(np.cumprod(Gross_return[:, window_size:], axis=1), axis=0)\n",
    "ew_reward = np.mean(Gross_return[:, window_size:], axis=0)"
   ]
  },
  {
   "cell_type": "code",
   "execution_count": null,
   "metadata": {},
   "outputs": [],
   "source": [
    "# Save the results\n",
    "all_returns = {\"EW\": ew_reward, \n",
    "               \"UCB1\": ucb.reward,\n",
    "               \"PSR\": psr.reward,\n",
    "               \"UCBPSR\": ucb_psr.reward\n",
    "        }\n",
    "z = pd.DataFrame(all_returns) - 1\n",
    "z = z.to_csv('./output/new_reward.csv')\n"
   ]
  },
  {
   "cell_type": "code",
   "execution_count": null,
   "metadata": {},
   "outputs": [],
   "source": [
    "# Cumulative wealth\n",
    "cumulative_wealths = {\n",
    "    \"CWR\": constant_weight_rebalance,\n",
    "    \"EW\": equal_weight_portfolio,\n",
    "    \"UCB1\": ucb.get_cumulative_wealth(),\n",
    "    \"PSR\": psr.get_cumulative_wealth(),\n",
    "    \"UCBPSR\": ucb_psr.get_cumulative_wealth()\n",
    "}\n",
    "results = pd.DataFrame(cumulative_wealths)\n",
    "results_pct = results.pct_change().dropna()\n",
    "results_pct\n",
    "results_pct.std() * 100 * np.sqrt(252)  # Annualized volatility"
   ]
  },
  {
   "cell_type": "code",
   "execution_count": null,
   "metadata": {},
   "outputs": [],
   "source": [
    "date = data_daily.index.values[window_size:]\n",
    "results.index = date\n",
    "results_pct.index = date[1:]\n",
    "years = pd.date_range(start=\"1975\", end=\"2024\", freq='YE').year\n",
    "years = [str(year) for year in years]\n",
    "\n",
    "yearly_sharpes = {}\n",
    "for col in results_pct.columns:\n",
    "    col_ = {}\n",
    "    for a in range(1, len(years)):\n",
    "        col_[years[a]] = np.sqrt(252) * np.mean(results_pct.loc[years[a-1]:years[a], col]) / np.std(results_pct.loc[years[a-1]:years[a], col])\n",
    "    yearly_sharpes[col] = []\n",
    "\n",
    "yearly_sharpes = pd.DataFrame(yearly_sharpes)\n",
    "results_pct.to_csv('./output/pct_changes.csv')"
   ]
  },
  {
   "cell_type": "code",
   "execution_count": null,
   "metadata": {},
   "outputs": [],
   "source": [
    "yearly_sharpes.mean().sort_values(ascending=False)\n",
    "\n",
    "((np.mean(results_pct)/np.std(results_pct))*np.sqrt(252)).sort_values(ascending=False)\n",
    "\n",
    "results.loc[\"1985\":\"1994\", :]\n",
    "results.to_csv('./output/results.csv')"
   ]
  },
  {
   "cell_type": "code",
   "execution_count": null,
   "metadata": {},
   "outputs": [],
   "source": [
    "# Graphs\n",
    "array_size = 5\n",
    "\n",
    "wealth_75_84 = np.cumprod(pd.DataFrame(np.concatenate((np.ones(array_size).reshape(-1, array_size), results_pct.loc[\"1975\":\"1984\", :].values+1), axis=0), columns=results_pct.columns, index=pd.date_range(start=results_pct.loc[\"1975\":\"1984\", :].index[0]-pd.Timedelta(\"1d\"), end=results_pct.loc[\"1975\":\"1984\", :].index[-1], periods=results_pct.loc[\"1975\":\"1984\", :].shape[0]+1).date))\n",
    "wealth_85_94 = np.cumprod(pd.DataFrame(np.concatenate((np.ones(array_size).reshape(-1, array_size), results_pct.loc[\"1985\":\"1994\", :].values+1), axis=0), columns=results_pct.columns, index=pd.date_range(start=results_pct.loc[\"1985\":\"1994\", :].index[0]-pd.Timedelta(\"1d\"), end=results_pct.loc[\"1985\":\"1994\", :].index[-1], periods=results_pct.loc[\"1985\":\"1994\", :].shape[0]+1).date))\n",
    "wealth_95_04 = np.cumprod(pd.DataFrame(np.concatenate((np.ones(array_size).reshape(-1, array_size), results_pct.loc[\"1995\":\"2004\", :].values+1), axis=0), columns=results_pct.columns, index=pd.date_range(start=results_pct.loc[\"1995\":\"2004\", :].index[0]-pd.Timedelta(\"1d\"), end=results_pct.loc[\"1995\":\"2004\", :].index[-1], periods=results_pct.loc[\"1995\":\"2004\", :].shape[0]+1).date))\n",
    "wealth_05_14 = np.cumprod(pd.DataFrame(np.concatenate((np.ones(array_size).reshape(-1, array_size), results_pct.loc[\"2005\":\"2014\", :].values+1), axis=0), columns=results_pct.columns, index=pd.date_range(start=results_pct.loc[\"2005\":\"2014\", :].index[0]-pd.Timedelta(\"1d\"), end=results_pct.loc[\"2005\":\"2014\", :].index[-1], periods=results_pct.loc[\"2005\":\"2014\", :].shape[0]+1).date))\n",
    "wealth_15_24 = np.cumprod(pd.DataFrame(np.concatenate((np.ones(array_size).reshape(-1, array_size), results_pct.loc[\"2015\":\"2024\", :].values+1), axis=0), columns=results_pct.columns, index=pd.date_range(start=results_pct.loc[\"2015\":\"2024\", :].index[0]-pd.Timedelta(\"1d\"), end=results_pct.loc[\"2015\":\"2024\", :].index[-1], periods=results_pct.loc[\"2015\":\"2024\", :].shape[0]+1).date))\n",
    "\n",
    "import seaborn as sns\n",
    "import matplotlib.pyplot as plt\n",
    "\n",
    "dash_styles = [\"\",\n",
    "               (4, 1.5),\n",
    "               (1, 1),\n",
    "               (3, 1, 1.5, 1),\n",
    "               (5, 1, 1, 1),\n",
    "               (5, 1, 2, 1, 2, 1),\n",
    "               (2, 2, 3, 1.5),\n",
    "               (1, 2.5, 3, 1.2)]\n",
    "\n",
    "sns.set(style=\"whitegrid\", font_scale=3.3)\n",
    "plt.figure(figsize=(60, 100))\n",
    "\n",
    "plt.subplot(5,1,1)\n",
    "ax = sns.lineplot(data=wealth_75_84, palette=\"bright\", linewidth=2.7, dashes=dash_styles)\n",
    "ax.set(ylabel='Cum. Wealth', title=\"FF48 Algorithm Comparison\")\n",
    "\n",
    "plt.subplot(5,1,2)\n",
    "ax = sns.lineplot(data=wealth_85_94, palette=\"bright\", linewidth=2.7, dashes=dash_styles)\n",
    "ax.set(ylabel='Cum. Wealth')\n",
    "\n",
    "plt.subplot(5,1,3)\n",
    "ax = sns.lineplot(data=wealth_95_04, palette=\"bright\", linewidth=2.7, dashes=dash_styles)\n",
    "ax.set(ylabel='Cum. Wealth')\n",
    "\n",
    "plt.subplot(5,1,4)\n",
    "ax = sns.lineplot(data=wealth_05_14, palette=\"bright\", linewidth=2.7, dashes=dash_styles)\n",
    "ax.set(ylabel='Cum. Wealth')\n",
    "\n",
    "plt.subplot(5,1,5)\n",
    "ax = sns.lineplot(data=wealth_15_24, palette=\"bright\", linewidth=2.7, dashes=dash_styles)\n",
    "ax.set(xlabel=\"Date\", ylabel='Cum. Wealth')\n",
    "ax.figure.savefig('./output/results.png')\n",
    "\n",
    "yearly_sharpes.to_csv('./output/year_sharpes.csv')\n"
   ]
  },
  {
   "cell_type": "markdown",
   "metadata": {},
   "source": []
  }
 ],
 "metadata": {
  "kernelspec": {
   "display_name": ".venv",
   "language": "python",
   "name": "python3"
  },
  "language_info": {
   "codemirror_mode": {
    "name": "ipython",
    "version": 3
   },
   "file_extension": ".py",
   "mimetype": "text/x-python",
   "name": "python",
   "nbconvert_exporter": "python",
   "pygments_lexer": "ipython3",
   "version": "3.13.2"
  }
 },
 "nbformat": 4,
 "nbformat_minor": 2
}
