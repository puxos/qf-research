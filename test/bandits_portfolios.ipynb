{
 "cells": [
  {
   "cell_type": "code",
   "execution_count": 1,
   "metadata": {
    "ExecuteTime": {
     "end_time": "2020-06-07T22:44:13.408983Z",
     "start_time": "2020-06-07T22:44:12.938521Z"
    }
   },
   "outputs": [],
   "source": [
    "import sys\n",
    "import matplotlib.pyplot as plt\n",
    "import pandas as pd\n",
    "# import pandas_datareader.data as web\n",
    "import numpy as np\n",
    "from functools import partial\n",
    "from sklearn.preprocessing import MinMaxScaler\n",
    "from scipy.stats import norm, kurtosis, skew"
   ]
  },
  {
   "cell_type": "code",
   "execution_count": null,
   "metadata": {
    "ExecuteTime": {
     "end_time": "2020-06-08T21:44:44.988396Z",
     "start_time": "2020-06-08T21:44:44.734580Z"
    }
   },
   "outputs": [],
   "source": [
    "\n",
    "sys.path.append('.')\n",
    "#data = pd.read_csv('/Users/guneykan/Downloads/48_Industry_Portfolios.CSV', index_col=0)\n",
    "data_daily = pd.read_csv('../data/48_Industry_Portfolios_Daily.csv', index_col=0)\n",
    "# data_monthly = pd.read_csv('./data/48_Industry_Portfolios.csv', index_col=0)\n",
    "\n",
    "data_daily = data_daily[('197401' <= data_daily.index.values.astype(str)) & (data_daily.index.values.astype(str) <= '201912')]\n",
    "# data_monthly = data_monthly[('197401' <= data_monthly.index.values.astype(str)) & (data_monthly.index.values.astype(str) <= '201912')]\n",
    "\n",
    "\n",
    "data_daily.index = pd.to_datetime(data_daily.index, format=\"%Y%m%d\")\n",
    "# data_monthly.index = pd.to_datetime(data_monthly.index, format=\"%Y%m\")\n",
    "\n",
    "date_daily = data_daily.index.date\n",
    "# date_monthly = data_monthly.index.date\n",
    "\n",
    "# The rate of return matrix, fill missing values with 100%\n",
    "R = data_daily.values.T.astype(float)\n",
    "R[R < -99]\n",
    "R = (R + 100) / 100  # Gross Return"
   ]
  },
  {
   "cell_type": "code",
   "execution_count": 3,
   "metadata": {
    "ExecuteTime": {
     "end_time": "2020-06-09T21:09:22.204453Z",
     "start_time": "2020-06-09T21:09:22.181411Z"
    }
   },
   "outputs": [
    {
     "data": {
      "text/html": [
       "<div>\n",
       "<style scoped>\n",
       "    .dataframe tbody tr th:only-of-type {\n",
       "        vertical-align: middle;\n",
       "    }\n",
       "\n",
       "    .dataframe tbody tr th {\n",
       "        vertical-align: top;\n",
       "    }\n",
       "\n",
       "    .dataframe thead th {\n",
       "        text-align: right;\n",
       "    }\n",
       "</style>\n",
       "<table border=\"1\" class=\"dataframe\">\n",
       "  <thead>\n",
       "    <tr style=\"text-align: right;\">\n",
       "      <th></th>\n",
       "      <th>Agric</th>\n",
       "      <th>Food</th>\n",
       "      <th>Soda</th>\n",
       "      <th>Beer</th>\n",
       "      <th>Smoke</th>\n",
       "      <th>Toys</th>\n",
       "      <th>Fun</th>\n",
       "      <th>Books</th>\n",
       "      <th>Hshld</th>\n",
       "      <th>Clths</th>\n",
       "      <th>...</th>\n",
       "      <th>Boxes</th>\n",
       "      <th>Trans</th>\n",
       "      <th>Whlsl</th>\n",
       "      <th>Rtail</th>\n",
       "      <th>Meals</th>\n",
       "      <th>Banks</th>\n",
       "      <th>Insur</th>\n",
       "      <th>RlEst</th>\n",
       "      <th>Fin</th>\n",
       "      <th>Other</th>\n",
       "    </tr>\n",
       "  </thead>\n",
       "  <tbody>\n",
       "    <tr>\n",
       "      <th>1974-01-02</th>\n",
       "      <td>-0.61</td>\n",
       "      <td>0.20</td>\n",
       "      <td>-0.82</td>\n",
       "      <td>-0.60</td>\n",
       "      <td>0.76</td>\n",
       "      <td>0.26</td>\n",
       "      <td>-1.86</td>\n",
       "      <td>0.95</td>\n",
       "      <td>-0.20</td>\n",
       "      <td>1.43</td>\n",
       "      <td>...</td>\n",
       "      <td>1.13</td>\n",
       "      <td>1.04</td>\n",
       "      <td>2.43</td>\n",
       "      <td>-0.12</td>\n",
       "      <td>1.12</td>\n",
       "      <td>-0.66</td>\n",
       "      <td>0.23</td>\n",
       "      <td>2.11</td>\n",
       "      <td>0.80</td>\n",
       "      <td>0.12</td>\n",
       "    </tr>\n",
       "    <tr>\n",
       "      <th>1974-01-03</th>\n",
       "      <td>3.79</td>\n",
       "      <td>2.64</td>\n",
       "      <td>2.09</td>\n",
       "      <td>2.22</td>\n",
       "      <td>2.97</td>\n",
       "      <td>4.60</td>\n",
       "      <td>0.64</td>\n",
       "      <td>1.40</td>\n",
       "      <td>0.73</td>\n",
       "      <td>4.42</td>\n",
       "      <td>...</td>\n",
       "      <td>1.23</td>\n",
       "      <td>2.52</td>\n",
       "      <td>3.70</td>\n",
       "      <td>2.48</td>\n",
       "      <td>0.43</td>\n",
       "      <td>1.33</td>\n",
       "      <td>2.69</td>\n",
       "      <td>4.50</td>\n",
       "      <td>2.64</td>\n",
       "      <td>1.72</td>\n",
       "    </tr>\n",
       "    <tr>\n",
       "      <th>1974-01-04</th>\n",
       "      <td>0.46</td>\n",
       "      <td>0.55</td>\n",
       "      <td>-1.28</td>\n",
       "      <td>-0.65</td>\n",
       "      <td>-0.24</td>\n",
       "      <td>-0.45</td>\n",
       "      <td>-2.58</td>\n",
       "      <td>-0.38</td>\n",
       "      <td>-2.39</td>\n",
       "      <td>1.50</td>\n",
       "      <td>...</td>\n",
       "      <td>-0.61</td>\n",
       "      <td>-0.50</td>\n",
       "      <td>0.86</td>\n",
       "      <td>0.78</td>\n",
       "      <td>-3.86</td>\n",
       "      <td>0.13</td>\n",
       "      <td>0.11</td>\n",
       "      <td>1.41</td>\n",
       "      <td>-0.13</td>\n",
       "      <td>-0.30</td>\n",
       "    </tr>\n",
       "    <tr>\n",
       "      <th>1974-01-07</th>\n",
       "      <td>-1.55</td>\n",
       "      <td>0.01</td>\n",
       "      <td>-1.18</td>\n",
       "      <td>-1.37</td>\n",
       "      <td>-0.81</td>\n",
       "      <td>-1.08</td>\n",
       "      <td>3.15</td>\n",
       "      <td>-0.28</td>\n",
       "      <td>-1.78</td>\n",
       "      <td>-0.09</td>\n",
       "      <td>...</td>\n",
       "      <td>-1.96</td>\n",
       "      <td>-2.61</td>\n",
       "      <td>0.49</td>\n",
       "      <td>-0.48</td>\n",
       "      <td>-2.17</td>\n",
       "      <td>0.46</td>\n",
       "      <td>-0.15</td>\n",
       "      <td>1.53</td>\n",
       "      <td>0.00</td>\n",
       "      <td>0.14</td>\n",
       "    </tr>\n",
       "    <tr>\n",
       "      <th>1974-01-08</th>\n",
       "      <td>-1.31</td>\n",
       "      <td>-1.20</td>\n",
       "      <td>-2.41</td>\n",
       "      <td>-2.53</td>\n",
       "      <td>-2.30</td>\n",
       "      <td>-2.79</td>\n",
       "      <td>-4.72</td>\n",
       "      <td>-0.96</td>\n",
       "      <td>-2.20</td>\n",
       "      <td>-0.44</td>\n",
       "      <td>...</td>\n",
       "      <td>-1.57</td>\n",
       "      <td>-3.01</td>\n",
       "      <td>-2.12</td>\n",
       "      <td>-1.96</td>\n",
       "      <td>-2.66</td>\n",
       "      <td>-1.65</td>\n",
       "      <td>-0.17</td>\n",
       "      <td>-1.32</td>\n",
       "      <td>-0.78</td>\n",
       "      <td>-1.06</td>\n",
       "    </tr>\n",
       "  </tbody>\n",
       "</table>\n",
       "<p>5 rows × 48 columns</p>\n",
       "</div>"
      ],
      "text/plain": [
       "            Agric  Food   Soda   Beer   Smoke  Toys   Fun    Books  Hshld  \\\n",
       "1974-01-02  -0.61   0.20  -0.82  -0.60   0.76   0.26  -1.86   0.95  -0.20   \n",
       "1974-01-03   3.79   2.64   2.09   2.22   2.97   4.60   0.64   1.40   0.73   \n",
       "1974-01-04   0.46   0.55  -1.28  -0.65  -0.24  -0.45  -2.58  -0.38  -2.39   \n",
       "1974-01-07  -1.55   0.01  -1.18  -1.37  -0.81  -1.08   3.15  -0.28  -1.78   \n",
       "1974-01-08  -1.31  -1.20  -2.41  -2.53  -2.30  -2.79  -4.72  -0.96  -2.20   \n",
       "\n",
       "            Clths  ...  Boxes  Trans  Whlsl  Rtail  Meals  Banks  Insur  \\\n",
       "1974-01-02   1.43  ...   1.13   1.04   2.43  -0.12   1.12  -0.66   0.23   \n",
       "1974-01-03   4.42  ...   1.23   2.52   3.70   2.48   0.43   1.33   2.69   \n",
       "1974-01-04   1.50  ...  -0.61  -0.50   0.86   0.78  -3.86   0.13   0.11   \n",
       "1974-01-07  -0.09  ...  -1.96  -2.61   0.49  -0.48  -2.17   0.46  -0.15   \n",
       "1974-01-08  -0.44  ...  -1.57  -3.01  -2.12  -1.96  -2.66  -1.65  -0.17   \n",
       "\n",
       "            RlEst  Fin    Other  \n",
       "1974-01-02   2.11   0.80   0.12  \n",
       "1974-01-03   4.50   2.64   1.72  \n",
       "1974-01-04   1.41  -0.13  -0.30  \n",
       "1974-01-07   1.53   0.00   0.14  \n",
       "1974-01-08  -1.32  -0.78  -1.06  \n",
       "\n",
       "[5 rows x 48 columns]"
      ]
     },
     "execution_count": 3,
     "metadata": {},
     "output_type": "execute_result"
    }
   ],
   "source": [
    "# Preview first 5 rows\n",
    "data_daily.head()"
   ]
  },
  {
   "cell_type": "markdown",
   "metadata": {},
   "source": [
    "# Daily"
   ]
  },
  {
   "cell_type": "code",
   "execution_count": 4,
   "metadata": {
    "ExecuteTime": {
     "end_time": "2020-06-08T21:44:48.995583Z",
     "start_time": "2020-06-08T21:44:48.919677Z"
    }
   },
   "outputs": [],
   "source": [
    "from sklearn.preprocessing import MinMaxScaler\n",
    "from sklearn.preprocessing import StandardScaler\n",
    "\n",
    "class BanditPortfolio:\n",
    "    def __init__(self, R):\n",
    "        self.R = R\n",
    "        self.n_arms, self.n_samples = R.shape\n",
    "        \n",
    "    def UCB(self, window_size):\n",
    "        self.reward = np.ones(self.n_samples - window_size)\n",
    "        self.played_times = np.ones(self.n_arms)\n",
    "        \n",
    "        for t in range(window_size, self.n_samples):\n",
    "            sliceR = self.R[:, t-window_size:t]\n",
    "            \n",
    "            # Compute the covariance matrix\n",
    "            covariance_matrix =  np.cov(sliceR)\n",
    "            \n",
    "            # Eigenvalue Decomposition\n",
    "            A, H = np.linalg.eig(covariance_matrix)\n",
    "            \n",
    "            # All eigenvalues are positive\n",
    "            assert(np.sum(A<0) == 0)\n",
    "            \n",
    "            # Sort the eigenvalues\n",
    "            idx = np.argsort(-A)\n",
    "            A = np.diag(A[idx])\n",
    "            H = H[:,idx]\n",
    "            l = np.argwhere(np.median(np.diag(A)) > np.diag(A))[0][0]\n",
    "            \n",
    "            # Normalized weight\n",
    "            H /= np.sum(H, axis= 0)\n",
    "            ANew =  H.T.dot(covariance_matrix).dot(H)\n",
    "            \n",
    "            # Compute the sharpe ratio\n",
    "            portfolio_reward = H.T.dot(sliceR)\n",
    "\n",
    "            sharpe_ratio = np.mean(portfolio_reward, axis=1) / np.sqrt(ANew.diagonal())\n",
    "            #sharpe_ratio = MinMaxScaler().fit_transform(sharpe_ratio.reshape(-1,1)).reshape(-1)\n",
    "            \n",
    "            # Compute the upper bound of expected reward\n",
    "            sharpe_ratio_upper_bound = sharpe_ratio + np.sqrt((2*np.log(t))/(window_size+self.played_times))\n",
    "            \n",
    "            # Select the optimal arm\n",
    "            action1 = np.argmax(sharpe_ratio_upper_bound[:l])\n",
    "            action2 = np.argmax(sharpe_ratio_upper_bound[l:])+l\n",
    "\n",
    "            self.played_times[action1] += 1\n",
    "            self.played_times[action2] += 1\n",
    "\n",
    "            # Optimal weight\n",
    "            Adiag = ANew.diagonal()\n",
    "            theta = Adiag[action1] / (Adiag[action1] + Adiag[action2])\n",
    "            self.weight = (1-theta)*H[:,action1] + theta*H[:,action2]\n",
    "            \n",
    "            self.reward[t-window_size] = self.weight.dot(self.R[:,t])\n",
    "            \n",
    "    def TS(self, window_size):\n",
    "        self.reward = np.ones(self.n_samples - window_size)\n",
    "        self.mv_reward = np.ones(self.n_samples - window_size)\n",
    "        self.played_times = np.ones(self.n_arms)\n",
    "        self.success = np.ones(4)\n",
    "        self.fail = np.ones(4)\n",
    "\n",
    "        for t in range(window_size, self.n_samples):\n",
    "\n",
    "            sliceR = self.R[:, t-window_size:t]\n",
    "\n",
    "            # Compute the covariance matrix\n",
    "            covariance_matrix = np.cov(sliceR)  # histroical covariance\n",
    "\n",
    "            # Eigenvalue Decomposition\n",
    "            A, H = np.linalg.eig(covariance_matrix)  # equation 5\n",
    "\n",
    "            # All eigenvalues are positive\n",
    "            assert(np.sum(A < 0) == 0)\n",
    "\n",
    "            # Sort the eigenvalues\n",
    "            idx = np.argsort(-A)  # sort eigenvalues\n",
    "            A = np.diag(A[idx])  #  eigenvalues as vector\n",
    "            H = H[:, idx]  #  n(number of assets) orthonormal portfolios\n",
    "            l = np.argwhere(np.median(np.diag(A)) > np.diag(A))[0][0]\n",
    "\n",
    "            # Normalized weight\n",
    "            H /= np.sum(H, axis=0)  # equation 7 normalized eigenvectors\n",
    "            #  equation 8 normalized eigenvalues matrix\n",
    "            ANew = H.T.dot(covariance_matrix).dot(H)\n",
    "\n",
    "            # Compute the sharpe ratio\n",
    "            #  Return of each port. in the slice window\n",
    "            portfolio_reward = H.T.dot(sliceR)\n",
    "            # Estimator of portfolio return, rolling average\n",
    "            sharpe_ratio = np.mean(\n",
    "                portfolio_reward, axis=1) / np.sqrt(ANew.diagonal())\n",
    "            # Normalize the sharpe ratio\n",
    "            #sharpe_ratio = MinMaxScaler().fit_transform(\n",
    "            #    sharpe_ratio.reshape(-1, 1)).reshape(-1)\n",
    "\n",
    "            # Compute the upper bound of expected reward\n",
    "            sharpe_ratio_upper_bound = sharpe_ratio + \\\n",
    "                np.sqrt((2*np.log(t))/(window_size+self.played_times))\n",
    "\n",
    "            # Select the optimal arm\n",
    "            #  passive portfolios\n",
    "            action1 = np.argmax(sharpe_ratio_upper_bound[:l])\n",
    "            #  active portfolios\n",
    "            action2 = np.argmax(sharpe_ratio_upper_bound[l:])+l\n",
    "\n",
    "            #  update the times portfolio played\n",
    "            self.played_times[action1] += 1\n",
    "            self.played_times[action2] += 1  # update the second action\n",
    "\n",
    "            # Optimal weight, Min var allocation between 2 chosen portfolios\n",
    "            Adiag = ANew.diagonal()\n",
    "            theta = Adiag[action1] / (Adiag[action1] + Adiag[action2])\n",
    "            \n",
    "            self.psr_set = []\n",
    "            #psr_second_set = []\n",
    "            for a in range(len(sharpe_ratio)):\n",
    "                sr = sharpe_ratio[a]\n",
    "                n = (window_size+self.played_times[a])/window_size\n",
    "                skewness = skew(portfolio_reward[a, :])\n",
    "                kurto = kurtosis(portfolio_reward[a, :])\n",
    "                nomin = (sr-np.mean(sharpe_ratio))*np.sqrt(n)\n",
    "                denom = np.sqrt(np.abs((1 + 0.5*sr**2 - skewness*sr + ((kurto-3)/4)*sr**2))/(n-1))\n",
    "                self.psr_set.append(nomin/denom)\n",
    "                \n",
    "                \n",
    "            self.psr_set = np.array([norm.cdf(a) for a in self.psr_set])\n",
    "            \n",
    "            sharpe_ratio_upper_bound_psr = (sharpe_ratio + \\\n",
    "                np.sqrt((2*np.log(t))/(window_size+self.played_times)))*np.array(self.psr_set)\n",
    "                \n",
    "            \n",
    "            action_1_1 = np.argmax(sharpe_ratio_upper_bound_psr[:l])\n",
    "            action_1_2 = np.argmax(sharpe_ratio_upper_bound_psr[l:])+l\n",
    "\n",
    "\n",
    "            # Optimal weight\n",
    "            theta_ = Adiag[action_1_1] / (Adiag[action_1_1] + Adiag[action_1_2])\n",
    "                        \n",
    "            \n",
    "            \n",
    "            self.weight_1 = (1-theta)*H[:, action1] + theta*H[:, action2]\n",
    "            \n",
    "            self.weight_2 = np.ones(self.n_arms)/self.n_arms\n",
    "            \n",
    "            self.weight_3 = (np.linalg.inv(covariance_matrix)@np.ones(self.n_arms).reshape(-1, 1))/(np.ones(\n",
    "                self.n_arms).reshape(-1, 1).T@np.linalg.inv(covariance_matrix)@np.ones(self.n_arms).reshape(-1, 1))\n",
    "            \n",
    "            self.weight_4 = (1-theta_)*H[:,action_1_1] + theta_*H[:,action_1_2]\n",
    "            \n",
    "            \n",
    "            final_actions = [self.weight_1, self.weight_2, self.weight_3, self.weight_4]\n",
    "            draws = [np.random.beta(self.success[action], self.fail[action])\n",
    "                     for action in range(4)]\n",
    "            \n",
    "            final_weight = final_actions[np.argmax(draws)]\n",
    "            \n",
    "            self.reward[t-window_size] = final_weight.T.dot(self.R[:, t])\n",
    "            self.mv_reward[t-window_size] = self.weight_3.T.dot(self.R[:, t])\n",
    "            \n",
    "            rewards = [self.weight_1.T.dot(self.R[:, t]), self.weight_2.T.dot(self.R[:, t]), self.weight_3.T.dot(self.R[:, t]), self.weight_4.T.dot(self.R[:, t])]\n",
    "            \n",
    "            \n",
    "\n",
    "            if np.max(rewards) == final_weight.T@self.R[:, t]:\n",
    "                self.success[np.argmax(draws)] += 1\n",
    "                other_idx = [a for a in range(4) if a != np.argmax(rewards)]\n",
    "                self.fail[other_idx[0]] +=1\n",
    "                self.fail[other_idx[1]] +=1\n",
    "                self.fail[other_idx[2]] +=1\n",
    "            else:\n",
    "                other_idx = [a for a in range(4) if (a != np.argmax(rewards)) & (a != np.argmax(draws))]\n",
    "                self.success[np.argmax(rewards)] +=1\n",
    "                self.fail[other_idx[0]] +=1\n",
    "                self.fail[other_idx[1]] +=1\n",
    "                self.fail[np.argmax(draws)] += 1\n",
    "                \n",
    "    def UCBPSR(self, window_size):\n",
    "        self.reward = np.ones(self.n_samples - window_size)\n",
    "        self.played_times = np.ones(self.n_arms)\n",
    "        self.psr = {}\n",
    "        \n",
    "        for t in range(window_size, self.n_samples):\n",
    "            sliceR = self.R[:, t-window_size:t]\n",
    "            \n",
    "            # Compute the covariance matrix\n",
    "            covariance_matrix =  np.cov(sliceR)\n",
    "            \n",
    "            # Eigenvalue Decomposition\n",
    "            A, H = np.linalg.eig(covariance_matrix)\n",
    "            \n",
    "            # All eigenvalues are positive\n",
    "            assert(np.sum(A<0) == 0)\n",
    "            \n",
    "            # Sort the eigenvalues\n",
    "            idx = np.argsort(-A)\n",
    "            A = np.diag(A[idx])\n",
    "            H = H[:,idx]\n",
    "            l = np.argwhere(np.median(np.diag(A)) > np.diag(A))[0][0]\n",
    "            \n",
    "            # Normalized weight\n",
    "            H /= np.sum(H, axis= 0)\n",
    "            ANew =  H.T.dot(covariance_matrix).dot(H)\n",
    "            \n",
    "            # Compute the sharpe ratio\n",
    "            portfolio_reward = H.T.dot(sliceR)\n",
    "\n",
    "            \n",
    "            sharpe_ratio = (np.mean(portfolio_reward, axis=1) / np.sqrt(ANew.diagonal()))\n",
    "            #sharpe_ratio = MinMaxScaler().fit_transform(sharpe_ratio.reshape(-1,1)).reshape(-1)\n",
    "            #scl = MinMaxScaler()\n",
    "            #sharpe_ratio = scl.fit_transform(sharpe_ratio.reshape(-1,1)).reshape(-1)\n",
    "            \n",
    "            \n",
    "            \n",
    "            self.psr_set = []\n",
    "            for a in range(len(sharpe_ratio)):\n",
    "                sr = sharpe_ratio[a]\n",
    "                n = (window_size+self.played_times[a])/window_size\n",
    "                skewness = skew(portfolio_reward[a, :])\n",
    "                kurto = kurtosis(portfolio_reward[a, :])\n",
    "                nomin = (sr-np.mean(sharpe_ratio))*np.sqrt(n)\n",
    "                denom = np.sqrt(np.abs((1 + 0.5*sr**2 - skewness*sr + ((kurto-3)/4)*sr**2))/(n-1))\n",
    "                #psr = norm.cdf(nomin/denom)\n",
    "                self.psr_set.append(nomin/denom)\n",
    "            #self.psr_set = scl.fit_transform(np.array(self.psr_set).reshape(-1,1)).reshape(-1)\n",
    "            self.psr_set = np.array([norm.cdf(a) for a in self.psr_set])\n",
    "            self.psr[t] = self.psr_set\n",
    "            \n",
    "            # Compute the upper bound of expected reward\n",
    "            #sharpe_ratio_upper_bound = sharpe_ratio + np.sqrt((2*np.log(t))/(window_size+self.played_times))\n",
    "            sharpe_ratio_upper_bound = (sharpe_ratio + \\\n",
    "                np.sqrt((2*np.log(t))/(window_size+self.played_times)))*np.array(self.psr_set)\n",
    "            \n",
    "            action1 = np.argmax(sharpe_ratio_upper_bound[:l])\n",
    "            action2 = np.argmax(sharpe_ratio_upper_bound[l:])+l\n",
    "            \n",
    "            # Select the optimal arm\n",
    "            #action1 = np.argmax(self.psr_set[:l])\n",
    "            #action2 = np.argmax(self.psr_set[l:])+l\n",
    "\n",
    "            self.played_times[action1] += 1\n",
    "            self.played_times[action2] += 1\n",
    "\n",
    "            # Optimal weight\n",
    "            Adiag = ANew.diagonal()\n",
    "            theta = Adiag[action1] / (Adiag[action1] + Adiag[action2])\n",
    "            self.weight = (1-theta)*H[:,action1] + theta*H[:,action2]\n",
    "            \n",
    "            self.reward[t-window_size] = self.weight.dot(self.R[:,t])\n",
    "            \n",
    "    def PSR(self, window_size):\n",
    "        self.reward = np.ones(self.n_samples - window_size)\n",
    "        self.played_times = np.ones(self.n_arms)\n",
    "        self.psr = {}\n",
    "        \n",
    "        for t in range(window_size, self.n_samples):\n",
    "            sliceR = self.R[:, t-window_size:t]\n",
    "            \n",
    "            # Compute the covariance matrix\n",
    "            covariance_matrix =  np.cov(sliceR)\n",
    "            \n",
    "            # Eigenvalue Decomposition\n",
    "            A, H = np.linalg.eig(covariance_matrix)\n",
    "            \n",
    "            # All eigenvalues are positive\n",
    "            assert(np.sum(A<0) == 0)\n",
    "            \n",
    "            # Sort the eigenvalues\n",
    "            idx = np.argsort(-A)\n",
    "            A = np.diag(A[idx])\n",
    "            H = H[:,idx]\n",
    "            l = np.argwhere(np.median(np.diag(A)) > np.diag(A))[0][0]\n",
    "            \n",
    "            # Normalized weight\n",
    "            H /= np.sum(H, axis= 0)\n",
    "            ANew =  H.T.dot(covariance_matrix).dot(H)\n",
    "            \n",
    "            # Compute the sharpe ratio\n",
    "            portfolio_reward = H.T.dot(sliceR)\n",
    "\n",
    "            \n",
    "            sharpe_ratio = (np.mean(portfolio_reward, axis=1) / np.sqrt(ANew.diagonal()))\n",
    "            scl = MinMaxScaler(feature_range=(-3,3))\n",
    "            #sharpe_ratio = scl.fit_transform(sharpe_ratio.reshape(-1,1)).reshape(-1)\n",
    "            \n",
    "            self.psr_set = []\n",
    "            #psr_second_set = []\n",
    "            for a in range(len(sharpe_ratio)):\n",
    "                sr = sharpe_ratio[a]\n",
    "                n = (window_size+self.played_times[a])/window_size\n",
    "                skewness = skew(portfolio_reward[a, :])\n",
    "                kurto = kurtosis(portfolio_reward[a, :])\n",
    "                nomin = (sr-np.mean(sharpe_ratio))*np.sqrt(n-1)\n",
    "                denom = np.sqrt(np.abs(1-(skewness*sr) + ((kurto-1)/4)*(sr**2)))\n",
    "                #psr = norm.cdf(nomin/denom)\n",
    "                self.psr_set.append(nomin/denom)\n",
    "                \n",
    "            self.psr_set = np.array([norm.cdf(a) for a in self.psr_set])\n",
    "            self.psr[t] = self.psr_set\n",
    "            \n",
    "            # Compute the upper bound of expected reward\n",
    "            #sharpe_ratio_upper_bound = sharpe_ratio + np.sqrt((2*np.log(t))/(window_size+self.played_times))\n",
    "            #sharpe_ratio_upper_bound = (sharpe_ratio + \\\n",
    "            #    np.sqrt((2*np.log(t))/(window_size+self.played_times)))*np.array(self.psr_set)\n",
    "            \n",
    "            #action1 = np.argmax(sharpe_ratio_upper_bound[:l])\n",
    "            #action2 = np.argmax(sharpe_ratio_upper_bound[l:])+l\n",
    "            \n",
    "            # Select the optimal arm\n",
    "            action1 = np.argmax(self.psr_set[:l])\n",
    "            action2 = np.argmax(self.psr_set[l:])+l\n",
    "\n",
    "            self.played_times[action1] += 1\n",
    "            self.played_times[action2] += 1\n",
    "\n",
    "            # Optimal weight\n",
    "            Adiag = ANew.diagonal()\n",
    "            theta = Adiag[action1] / (Adiag[action1] + Adiag[action2])\n",
    "            self.weight = (1-theta)*H[:,action1] + theta*H[:,action2]\n",
    "            \n",
    "            self.reward[t-window_size] = self.weight.dot(self.R[:,t])"
   ]
  },
  {
   "cell_type": "code",
   "execution_count": 5,
   "metadata": {
    "ExecuteTime": {
     "end_time": "2020-06-09T22:42:39.574494Z",
     "start_time": "2020-06-09T22:42:39.555816Z"
    }
   },
   "outputs": [],
   "source": [
    "window_size = 120\n",
    "orthogonal_bandit_portfolio = BanditPortfolio(R)"
   ]
  },
  {
   "cell_type": "code",
   "execution_count": 6,
   "metadata": {
    "ExecuteTime": {
     "end_time": "2020-06-09T22:43:24.481551Z",
     "start_time": "2020-06-09T22:43:08.343987Z"
    }
   },
   "outputs": [],
   "source": [
    "orthogonal_bandit_portfolio.UCB(window_size = window_size)\n",
    "ucb_ret = orthogonal_bandit_portfolio.reward\n",
    "ucb_wealth = np.cumprod(orthogonal_bandit_portfolio.reward)"
   ]
  },
  {
   "cell_type": "code",
   "execution_count": 7,
   "metadata": {
    "ExecuteTime": {
     "end_time": "2020-06-09T22:50:16.173862Z",
     "start_time": "2020-06-09T22:43:29.232107Z"
    }
   },
   "outputs": [],
   "source": [
    "# orthogonal_bandit_portfolio.TS(window_size = window_size)\n",
    "# ts_ret = orthogonal_bandit_portfolio.reward\n",
    "# mv_ret = orthogonal_bandit_portfolio.mv_reward"
   ]
  },
  {
   "cell_type": "code",
   "execution_count": 8,
   "metadata": {
    "ExecuteTime": {
     "end_time": "2020-06-09T22:56:45.128774Z",
     "start_time": "2020-06-09T22:50:16.402520Z"
    }
   },
   "outputs": [],
   "source": [
    "orthogonal_bandit_portfolio.PSR(window_size = window_size)\n",
    "psr_ret = orthogonal_bandit_portfolio.reward\n",
    "psr_wealth = np.cumprod(orthogonal_bandit_portfolio.reward)\n"
   ]
  },
  {
   "cell_type": "code",
   "execution_count": 9,
   "metadata": {
    "ExecuteTime": {
     "end_time": "2020-06-09T23:04:15.060101Z",
     "start_time": "2020-06-09T22:56:45.339132Z"
    }
   },
   "outputs": [],
   "source": [
    "orthogonal_bandit_portfolio.UCBPSR(window_size = window_size)\n",
    "ucbpsr_ret = orthogonal_bandit_portfolio.reward\n",
    "ucbpsr_wealth = np.cumprod(orthogonal_bandit_portfolio.reward)"
   ]
  },
  {
   "cell_type": "code",
   "execution_count": 10,
   "metadata": {
    "ExecuteTime": {
     "end_time": "2020-06-09T22:42:49.817385Z",
     "start_time": "2020-06-09T22:42:43.696Z"
    }
   },
   "outputs": [],
   "source": [
    "#Baseline\n",
    "constant_weight_rebalance = np.cumprod(R[:,window_size:].mean(axis=0))\n",
    "equal_weight_portfolio = np.mean(np.cumprod(R[:,window_size:], axis=1), axis=0)\n",
    "\n",
    "date = data_daily.index.values[window_size:]"
   ]
  },
  {
   "cell_type": "code",
   "execution_count": 11,
   "metadata": {
    "ExecuteTime": {
     "end_time": "2020-06-09T23:05:52.440321Z",
     "start_time": "2020-06-09T23:05:52.436428Z"
    }
   },
   "outputs": [],
   "source": [
    "ew_ret = np.mean(R[:,window_size:], axis=0)"
   ]
  },
  {
   "cell_type": "code",
   "execution_count": 12,
   "metadata": {
    "ExecuteTime": {
     "end_time": "2020-06-09T23:06:01.478448Z",
     "start_time": "2020-06-09T23:06:01.474479Z"
    }
   },
   "outputs": [],
   "source": [
    "# mv_ret.shape"
   ]
  },
  {
   "cell_type": "code",
   "execution_count": 13,
   "metadata": {
    "ExecuteTime": {
     "end_time": "2020-06-09T23:06:03.238539Z",
     "start_time": "2020-06-09T23:06:03.235518Z"
    }
   },
   "outputs": [],
   "source": [
    "\n",
    "#all_rets = {\"MVP\": mv_ret, \"EW\": ew_ret, \"UCB1\": ucb_ret, \"TS\": ts_ret, \"MaxPSR\": psr_ret, \"PW-UCB1\": ucbpsr_ret} \n",
    "\n",
    "all_rets = {\"EW\": ew_ret, \"UCB1\": ucb_ret, \"MaxPSR\": psr_ret, \"PW-UCB1\": ucbpsr_ret} "
   ]
  },
  {
   "cell_type": "code",
   "execution_count": 14,
   "metadata": {
    "ExecuteTime": {
     "end_time": "2020-06-09T23:06:17.666296Z",
     "start_time": "2020-06-09T23:06:17.657738Z"
    }
   },
   "outputs": [],
   "source": [
    "z = pd.DataFrame(all_rets)-1"
   ]
  },
  {
   "cell_type": "code",
   "execution_count": 15,
   "metadata": {
    "ExecuteTime": {
     "end_time": "2020-06-09T23:06:47.407395Z",
     "start_time": "2020-06-09T23:06:47.255972Z"
    }
   },
   "outputs": [],
   "source": [
    "z.to_csv(\"new_rets.csv\")"
   ]
  },
  {
   "cell_type": "code",
   "execution_count": 16,
   "metadata": {
    "ExecuteTime": {
     "end_time": "2020-06-08T22:18:41.537465Z",
     "start_time": "2020-06-08T22:18:41.533349Z"
    }
   },
   "outputs": [],
   "source": [
    "# all_wealth = {\"MVP\": mv_wealth, \"CWR\": constant_weight_rebalance, \"EW\": equal_weight_portfolio, \"UCB1\": ucb_wealth, \"TS\": ts_wealth, \"MaxPSR\": psr_wealth, \"PW-UCB1\": ucbpsr_wealth} \n",
    "all_wealth = {\"CWR\": constant_weight_rebalance, \"EW\": equal_weight_portfolio, \"UCB1\": ucb_wealth, \"MaxPSR\": psr_wealth, \"PW-UCB1\": ucbpsr_wealth} "
   ]
  },
  {
   "cell_type": "code",
   "execution_count": 17,
   "metadata": {
    "ExecuteTime": {
     "end_time": "2020-06-08T22:18:43.779684Z",
     "start_time": "2020-06-08T22:18:43.709443Z"
    }
   },
   "outputs": [],
   "source": [
    "results = pd.DataFrame(all_wealth)\n",
    "results_pct = results.pct_change().dropna()"
   ]
  },
  {
   "cell_type": "code",
   "execution_count": 18,
   "metadata": {
    "ExecuteTime": {
     "end_time": "2020-06-09T04:29:19.181734Z",
     "start_time": "2020-06-09T04:29:19.169964Z"
    }
   },
   "outputs": [
    {
     "data": {
      "text/html": [
       "<div>\n",
       "<style scoped>\n",
       "    .dataframe tbody tr th:only-of-type {\n",
       "        vertical-align: middle;\n",
       "    }\n",
       "\n",
       "    .dataframe tbody tr th {\n",
       "        vertical-align: top;\n",
       "    }\n",
       "\n",
       "    .dataframe thead th {\n",
       "        text-align: right;\n",
       "    }\n",
       "</style>\n",
       "<table border=\"1\" class=\"dataframe\">\n",
       "  <thead>\n",
       "    <tr style=\"text-align: right;\">\n",
       "      <th></th>\n",
       "      <th>CWR</th>\n",
       "      <th>EW</th>\n",
       "      <th>UCB1</th>\n",
       "      <th>MaxPSR</th>\n",
       "      <th>PW-UCB1</th>\n",
       "    </tr>\n",
       "  </thead>\n",
       "  <tbody>\n",
       "    <tr>\n",
       "      <th>1</th>\n",
       "      <td>0.011106</td>\n",
       "      <td>0.011112</td>\n",
       "      <td>-0.000826</td>\n",
       "      <td>0.013470</td>\n",
       "      <td>-0.000826</td>\n",
       "    </tr>\n",
       "    <tr>\n",
       "      <th>2</th>\n",
       "      <td>-0.014504</td>\n",
       "      <td>-0.014529</td>\n",
       "      <td>-0.011270</td>\n",
       "      <td>0.019304</td>\n",
       "      <td>-0.011270</td>\n",
       "    </tr>\n",
       "    <tr>\n",
       "      <th>3</th>\n",
       "      <td>-0.016715</td>\n",
       "      <td>-0.016675</td>\n",
       "      <td>-0.008555</td>\n",
       "      <td>0.008393</td>\n",
       "      <td>-0.008555</td>\n",
       "    </tr>\n",
       "    <tr>\n",
       "      <th>4</th>\n",
       "      <td>-0.006383</td>\n",
       "      <td>-0.006365</td>\n",
       "      <td>-0.018324</td>\n",
       "      <td>0.003918</td>\n",
       "      <td>-0.018324</td>\n",
       "    </tr>\n",
       "    <tr>\n",
       "      <th>5</th>\n",
       "      <td>-0.002927</td>\n",
       "      <td>-0.002896</td>\n",
       "      <td>-0.001228</td>\n",
       "      <td>0.006291</td>\n",
       "      <td>-0.001228</td>\n",
       "    </tr>\n",
       "    <tr>\n",
       "      <th>...</th>\n",
       "      <td>...</td>\n",
       "      <td>...</td>\n",
       "      <td>...</td>\n",
       "      <td>...</td>\n",
       "      <td>...</td>\n",
       "    </tr>\n",
       "    <tr>\n",
       "      <th>11457</th>\n",
       "      <td>0.003658</td>\n",
       "      <td>0.002268</td>\n",
       "      <td>0.003793</td>\n",
       "      <td>0.003793</td>\n",
       "      <td>0.003793</td>\n",
       "    </tr>\n",
       "    <tr>\n",
       "      <th>11458</th>\n",
       "      <td>0.010321</td>\n",
       "      <td>0.008438</td>\n",
       "      <td>0.005989</td>\n",
       "      <td>0.005989</td>\n",
       "      <td>0.005989</td>\n",
       "    </tr>\n",
       "    <tr>\n",
       "      <th>11459</th>\n",
       "      <td>0.003265</td>\n",
       "      <td>0.002893</td>\n",
       "      <td>-0.009677</td>\n",
       "      <td>-0.009677</td>\n",
       "      <td>-0.009677</td>\n",
       "    </tr>\n",
       "    <tr>\n",
       "      <th>11460</th>\n",
       "      <td>0.003629</td>\n",
       "      <td>0.003850</td>\n",
       "      <td>0.007046</td>\n",
       "      <td>0.007046</td>\n",
       "      <td>0.007046</td>\n",
       "    </tr>\n",
       "    <tr>\n",
       "      <th>11461</th>\n",
       "      <td>-0.005065</td>\n",
       "      <td>-0.004365</td>\n",
       "      <td>-0.008354</td>\n",
       "      <td>-0.008354</td>\n",
       "      <td>-0.008354</td>\n",
       "    </tr>\n",
       "  </tbody>\n",
       "</table>\n",
       "<p>11461 rows × 5 columns</p>\n",
       "</div>"
      ],
      "text/plain": [
       "            CWR        EW      UCB1    MaxPSR   PW-UCB1\n",
       "1      0.011106  0.011112 -0.000826  0.013470 -0.000826\n",
       "2     -0.014504 -0.014529 -0.011270  0.019304 -0.011270\n",
       "3     -0.016715 -0.016675 -0.008555  0.008393 -0.008555\n",
       "4     -0.006383 -0.006365 -0.018324  0.003918 -0.018324\n",
       "5     -0.002927 -0.002896 -0.001228  0.006291 -0.001228\n",
       "...         ...       ...       ...       ...       ...\n",
       "11457  0.003658  0.002268  0.003793  0.003793  0.003793\n",
       "11458  0.010321  0.008438  0.005989  0.005989  0.005989\n",
       "11459  0.003265  0.002893 -0.009677 -0.009677 -0.009677\n",
       "11460  0.003629  0.003850  0.007046  0.007046  0.007046\n",
       "11461 -0.005065 -0.004365 -0.008354 -0.008354 -0.008354\n",
       "\n",
       "[11461 rows x 5 columns]"
      ]
     },
     "execution_count": 18,
     "metadata": {},
     "output_type": "execute_result"
    }
   ],
   "source": [
    "results_pct"
   ]
  },
  {
   "cell_type": "code",
   "execution_count": 19,
   "metadata": {
    "ExecuteTime": {
     "end_time": "2020-06-09T04:36:54.173102Z",
     "start_time": "2020-06-09T04:36:54.161642Z"
    }
   },
   "outputs": [
    {
     "data": {
      "text/plain": [
       "CWR        16.167668\n",
       "EW         15.812233\n",
       "UCB1       18.374663\n",
       "MaxPSR     21.700227\n",
       "PW-UCB1    19.107008\n",
       "dtype: float64"
      ]
     },
     "execution_count": 19,
     "metadata": {},
     "output_type": "execute_result"
    }
   ],
   "source": [
    "results_pct.std()*100*np.sqrt(252)"
   ]
  },
  {
   "cell_type": "code",
   "execution_count": 20,
   "metadata": {
    "ExecuteTime": {
     "end_time": "2020-06-08T22:18:47.239149Z",
     "start_time": "2020-06-08T22:18:47.235574Z"
    }
   },
   "outputs": [],
   "source": [
    "results.index = date"
   ]
  },
  {
   "cell_type": "code",
   "execution_count": 21,
   "metadata": {
    "ExecuteTime": {
     "end_time": "2020-06-08T22:18:49.231215Z",
     "start_time": "2020-06-08T22:18:49.227733Z"
    }
   },
   "outputs": [],
   "source": [
    "results_pct.index = date[1:]"
   ]
  },
  {
   "cell_type": "code",
   "execution_count": 22,
   "metadata": {
    "ExecuteTime": {
     "end_time": "2020-06-08T22:18:51.266118Z",
     "start_time": "2020-06-08T22:18:51.259450Z"
    }
   },
   "outputs": [
    {
     "name": "stderr",
     "output_type": "stream",
     "text": [
      "/var/folders/6s/spnsxhq51jbb9vtvsmp70n440000gp/T/ipykernel_36087/115724630.py:1: FutureWarning: 'y' is deprecated and will be removed in a future version, please use 'YE' instead.\n",
      "  years = pd.date_range(start=\"1974\", end=\"2019\", freq=\"y\").year\n"
     ]
    }
   ],
   "source": [
    "years = pd.date_range(start=\"1974\", end=\"2019\", freq=\"y\").year\n",
    "years = [str(a) for a in years]"
   ]
  },
  {
   "cell_type": "code",
   "execution_count": 23,
   "metadata": {
    "ExecuteTime": {
     "end_time": "2020-06-08T22:18:53.681796Z",
     "start_time": "2020-06-08T22:18:53.285175Z"
    }
   },
   "outputs": [],
   "source": [
    "yearly_sharpes = {}\n",
    "\n",
    "for col in results_pct.columns:\n",
    "    col_ = {}\n",
    "    for a in range(1, len(years)):\n",
    "        col_[years[a]] = np.sqrt(252)*np.mean(results_pct.loc[years[a-1]:years[a], col])/np.std(results_pct.loc[years[a-1]:years[a], col])\n",
    "    yearly_sharpes[col] = col_"
   ]
  },
  {
   "cell_type": "code",
   "execution_count": 24,
   "metadata": {
    "ExecuteTime": {
     "end_time": "2020-06-08T22:18:55.616342Z",
     "start_time": "2020-06-08T22:18:55.610651Z"
    }
   },
   "outputs": [],
   "source": [
    "yearly_sharpes = pd.DataFrame(yearly_sharpes)"
   ]
  },
  {
   "cell_type": "code",
   "execution_count": 25,
   "metadata": {
    "ExecuteTime": {
     "end_time": "2020-06-09T04:06:20.485551Z",
     "start_time": "2020-06-09T04:06:20.242941Z"
    }
   },
   "outputs": [],
   "source": [
    "results_pct.to_csv(\"pct_changes.csv\")"
   ]
  },
  {
   "cell_type": "code",
   "execution_count": 26,
   "metadata": {
    "ExecuteTime": {
     "end_time": "2020-06-08T22:18:57.624991Z",
     "start_time": "2020-06-08T22:18:57.616383Z"
    }
   },
   "outputs": [
    {
     "data": {
      "text/plain": [
       "CWR        1.048971\n",
       "EW         1.038719\n",
       "UCB1       0.932960\n",
       "PW-UCB1    0.925495\n",
       "MaxPSR     0.796154\n",
       "dtype: float64"
      ]
     },
     "execution_count": 26,
     "metadata": {},
     "output_type": "execute_result"
    }
   ],
   "source": [
    "yearly_sharpes.mean().sort_values(ascending=False)"
   ]
  },
  {
   "cell_type": "code",
   "execution_count": 27,
   "metadata": {
    "ExecuteTime": {
     "end_time": "2020-06-08T22:18:59.589990Z",
     "start_time": "2020-06-08T22:18:59.578603Z"
    }
   },
   "outputs": [
    {
     "name": "stderr",
     "output_type": "stream",
     "text": [
      "/Users/frank/Projects/qf-research/.venv/lib/python3.13/site-packages/numpy/_core/fromnumeric.py:4062: FutureWarning: The behavior of DataFrame.std with axis=None is deprecated, in a future version this will reduce over both axes and return a scalar. To retain the old behavior, pass axis=0 (or do not pass axis)\n",
      "  return std(axis=axis, dtype=dtype, out=out, ddof=ddof, **kwargs)\n"
     ]
    },
    {
     "data": {
      "text/plain": [
       "EW         0.848919\n",
       "CWR        0.830256\n",
       "UCB1       0.730533\n",
       "PW-UCB1    0.702533\n",
       "MaxPSR     0.618579\n",
       "dtype: float64"
      ]
     },
     "execution_count": 27,
     "metadata": {},
     "output_type": "execute_result"
    }
   ],
   "source": [
    "((np.mean(results_pct)/np.std(results_pct))*np.sqrt(252)).sort_values(ascending=False)"
   ]
  },
  {
   "cell_type": "code",
   "execution_count": 28,
   "metadata": {
    "ExecuteTime": {
     "end_time": "2020-06-09T03:34:07.184725Z",
     "start_time": "2020-06-09T03:34:07.179056Z"
    }
   },
   "outputs": [
    {
     "data": {
      "text/html": [
       "<div>\n",
       "<style scoped>\n",
       "    .dataframe tbody tr th:only-of-type {\n",
       "        vertical-align: middle;\n",
       "    }\n",
       "\n",
       "    .dataframe tbody tr th {\n",
       "        vertical-align: top;\n",
       "    }\n",
       "\n",
       "    .dataframe thead th {\n",
       "        text-align: right;\n",
       "    }\n",
       "</style>\n",
       "<table border=\"1\" class=\"dataframe\">\n",
       "  <thead>\n",
       "    <tr style=\"text-align: right;\">\n",
       "      <th></th>\n",
       "      <th>CWR</th>\n",
       "      <th>EW</th>\n",
       "      <th>UCB1</th>\n",
       "      <th>MaxPSR</th>\n",
       "      <th>PW-UCB1</th>\n",
       "    </tr>\n",
       "  </thead>\n",
       "  <tbody>\n",
       "    <tr>\n",
       "      <th>1984-01-03</th>\n",
       "      <td>4.440071</td>\n",
       "      <td>4.743474</td>\n",
       "      <td>5.371267</td>\n",
       "      <td>3.919782</td>\n",
       "      <td>4.092134</td>\n",
       "    </tr>\n",
       "    <tr>\n",
       "      <th>1984-01-04</th>\n",
       "      <td>4.501112</td>\n",
       "      <td>4.814675</td>\n",
       "      <td>5.496989</td>\n",
       "      <td>4.026787</td>\n",
       "      <td>4.187916</td>\n",
       "    </tr>\n",
       "    <tr>\n",
       "      <th>1984-01-05</th>\n",
       "      <td>4.560311</td>\n",
       "      <td>4.883756</td>\n",
       "      <td>5.491179</td>\n",
       "      <td>4.037953</td>\n",
       "      <td>4.183490</td>\n",
       "    </tr>\n",
       "    <tr>\n",
       "      <th>1984-01-06</th>\n",
       "      <td>4.573935</td>\n",
       "      <td>4.898691</td>\n",
       "      <td>5.489051</td>\n",
       "      <td>4.021256</td>\n",
       "      <td>4.181868</td>\n",
       "    </tr>\n",
       "    <tr>\n",
       "      <th>1984-01-09</th>\n",
       "      <td>4.564292</td>\n",
       "      <td>4.888676</td>\n",
       "      <td>5.485527</td>\n",
       "      <td>3.967666</td>\n",
       "      <td>4.179183</td>\n",
       "    </tr>\n",
       "    <tr>\n",
       "      <th>...</th>\n",
       "      <td>...</td>\n",
       "      <td>...</td>\n",
       "      <td>...</td>\n",
       "      <td>...</td>\n",
       "      <td>...</td>\n",
       "    </tr>\n",
       "    <tr>\n",
       "      <th>1994-12-23</th>\n",
       "      <td>15.442909</td>\n",
       "      <td>16.439897</td>\n",
       "      <td>15.183070</td>\n",
       "      <td>15.013337</td>\n",
       "      <td>13.740022</td>\n",
       "    </tr>\n",
       "    <tr>\n",
       "      <th>1994-12-27</th>\n",
       "      <td>15.537851</td>\n",
       "      <td>16.547470</td>\n",
       "      <td>15.330318</td>\n",
       "      <td>15.158939</td>\n",
       "      <td>13.873275</td>\n",
       "    </tr>\n",
       "    <tr>\n",
       "      <th>1994-12-28</th>\n",
       "      <td>15.484957</td>\n",
       "      <td>16.478368</td>\n",
       "      <td>15.314625</td>\n",
       "      <td>15.143422</td>\n",
       "      <td>13.859074</td>\n",
       "    </tr>\n",
       "    <tr>\n",
       "      <th>1994-12-29</th>\n",
       "      <td>15.533412</td>\n",
       "      <td>16.519026</td>\n",
       "      <td>15.312808</td>\n",
       "      <td>15.141625</td>\n",
       "      <td>13.857430</td>\n",
       "    </tr>\n",
       "    <tr>\n",
       "      <th>1994-12-30</th>\n",
       "      <td>15.552020</td>\n",
       "      <td>16.523547</td>\n",
       "      <td>15.348279</td>\n",
       "      <td>15.176700</td>\n",
       "      <td>13.889530</td>\n",
       "    </tr>\n",
       "  </tbody>\n",
       "</table>\n",
       "<p>2781 rows × 5 columns</p>\n",
       "</div>"
      ],
      "text/plain": [
       "                  CWR         EW       UCB1     MaxPSR    PW-UCB1\n",
       "1984-01-03   4.440071   4.743474   5.371267   3.919782   4.092134\n",
       "1984-01-04   4.501112   4.814675   5.496989   4.026787   4.187916\n",
       "1984-01-05   4.560311   4.883756   5.491179   4.037953   4.183490\n",
       "1984-01-06   4.573935   4.898691   5.489051   4.021256   4.181868\n",
       "1984-01-09   4.564292   4.888676   5.485527   3.967666   4.179183\n",
       "...               ...        ...        ...        ...        ...\n",
       "1994-12-23  15.442909  16.439897  15.183070  15.013337  13.740022\n",
       "1994-12-27  15.537851  16.547470  15.330318  15.158939  13.873275\n",
       "1994-12-28  15.484957  16.478368  15.314625  15.143422  13.859074\n",
       "1994-12-29  15.533412  16.519026  15.312808  15.141625  13.857430\n",
       "1994-12-30  15.552020  16.523547  15.348279  15.176700  13.889530\n",
       "\n",
       "[2781 rows x 5 columns]"
      ]
     },
     "execution_count": 28,
     "metadata": {},
     "output_type": "execute_result"
    }
   ],
   "source": [
    "results.loc[\"1984\":\"1994\", :]"
   ]
  },
  {
   "cell_type": "code",
   "execution_count": 29,
   "metadata": {
    "ExecuteTime": {
     "end_time": "2020-06-09T22:39:11.991787Z",
     "start_time": "2020-06-09T22:39:11.749631Z"
    }
   },
   "outputs": [],
   "source": [
    "results.to_csv(\"results.csv\")"
   ]
  },
  {
   "cell_type": "code",
   "execution_count": null,
   "metadata": {
    "ExecuteTime": {
     "end_time": "2020-06-09T19:18:48.819617Z",
     "start_time": "2020-06-09T19:18:48.780108Z"
    }
   },
   "outputs": [
    {
     "ename": "ValueError",
     "evalue": "all the input array dimensions except for the concatenation axis must match exactly, but along dimension 1, the array at index 0 has size 7 and the array at index 1 has size 5",
     "output_type": "error",
     "traceback": [
      "\u001b[31m---------------------------------------------------------------------------\u001b[39m",
      "\u001b[31mValueError\u001b[39m                                Traceback (most recent call last)",
      "\u001b[36mCell\u001b[39m\u001b[36m \u001b[39m\u001b[32mIn[30]\u001b[39m\u001b[32m, line 1\u001b[39m\n\u001b[32m----> \u001b[39m\u001b[32m1\u001b[39m wealth_74_84 = np.cumprod(pd.DataFrame(\u001b[43mnp\u001b[49m\u001b[43m.\u001b[49m\u001b[43mconcatenate\u001b[49m\u001b[43m(\u001b[49m\u001b[43m(\u001b[49m\u001b[43mnp\u001b[49m\u001b[43m.\u001b[49m\u001b[43mones\u001b[49m\u001b[43m(\u001b[49m\n\u001b[32m      2\u001b[39m \u001b[43m    \u001b[49m\u001b[32;43m7\u001b[39;49m\u001b[43m)\u001b[49m\u001b[43m.\u001b[49m\u001b[43mreshape\u001b[49m\u001b[43m(\u001b[49m\u001b[43m-\u001b[49m\u001b[32;43m1\u001b[39;49m\u001b[43m,\u001b[49m\u001b[43m \u001b[49m\u001b[32;43m7\u001b[39;49m\u001b[43m)\u001b[49m\u001b[43m,\u001b[49m\u001b[43m \u001b[49m\u001b[43mresults_pct\u001b[49m\u001b[43m.\u001b[49m\u001b[43mloc\u001b[49m\u001b[43m[\u001b[49m\u001b[33;43m\"\u001b[39;49m\u001b[33;43m1974\u001b[39;49m\u001b[33;43m\"\u001b[39;49m\u001b[43m:\u001b[49m\u001b[33;43m\"\u001b[39;49m\u001b[33;43m1984\u001b[39;49m\u001b[33;43m\"\u001b[39;49m\u001b[43m,\u001b[49m\u001b[43m \u001b[49m\u001b[43m:\u001b[49m\u001b[43m]\u001b[49m\u001b[43m.\u001b[49m\u001b[43mvalues\u001b[49m\u001b[43m+\u001b[49m\u001b[32;43m1\u001b[39;49m\u001b[43m)\u001b[49m\u001b[43m,\u001b[49m\u001b[43m \u001b[49m\u001b[43maxis\u001b[49m\u001b[43m=\u001b[49m\u001b[32;43m0\u001b[39;49m\u001b[43m)\u001b[49m, columns=results_pct.columns, index=pd.date_range(start=results_pct.loc[\u001b[33m\"\u001b[39m\u001b[33m1974\u001b[39m\u001b[33m\"\u001b[39m:\u001b[33m\"\u001b[39m\u001b[33m1984\u001b[39m\u001b[33m\"\u001b[39m, :].index[\u001b[32m0\u001b[39m]-pd.Timedelta(\u001b[33m\"\u001b[39m\u001b[33m1d\u001b[39m\u001b[33m\"\u001b[39m), end=results_pct.loc[\u001b[33m\"\u001b[39m\u001b[33m1974\u001b[39m\u001b[33m\"\u001b[39m:\u001b[33m\"\u001b[39m\u001b[33m1984\u001b[39m\u001b[33m\"\u001b[39m, :].index[-\u001b[32m1\u001b[39m], periods=results_pct.loc[\u001b[33m\"\u001b[39m\u001b[33m1974\u001b[39m\u001b[33m\"\u001b[39m:\u001b[33m\"\u001b[39m\u001b[33m1984\u001b[39m\u001b[33m\"\u001b[39m, :].shape[\u001b[32m0\u001b[39m]+\u001b[32m1\u001b[39m).date))\n\u001b[32m      4\u001b[39m wealth_84_94 = np.cumprod(pd.DataFrame(np.concatenate((np.ones(\n\u001b[32m      5\u001b[39m     \u001b[32m7\u001b[39m).reshape(-\u001b[32m1\u001b[39m, \u001b[32m7\u001b[39m), results_pct.loc[\u001b[33m\"\u001b[39m\u001b[33m1984\u001b[39m\u001b[33m\"\u001b[39m:\u001b[33m\"\u001b[39m\u001b[33m1994\u001b[39m\u001b[33m\"\u001b[39m, :].values+\u001b[32m1\u001b[39m), axis=\u001b[32m0\u001b[39m), columns=results_pct.columns, index=pd.date_range(start=results_pct.loc[\u001b[33m\"\u001b[39m\u001b[33m1984\u001b[39m\u001b[33m\"\u001b[39m:\u001b[33m\"\u001b[39m\u001b[33m1994\u001b[39m\u001b[33m\"\u001b[39m, :].index[\u001b[32m0\u001b[39m]-pd.Timedelta(\u001b[33m\"\u001b[39m\u001b[33m1d\u001b[39m\u001b[33m\"\u001b[39m), end=results_pct.loc[\u001b[33m\"\u001b[39m\u001b[33m1984\u001b[39m\u001b[33m\"\u001b[39m:\u001b[33m\"\u001b[39m\u001b[33m1994\u001b[39m\u001b[33m\"\u001b[39m, :].index[-\u001b[32m1\u001b[39m], periods=results_pct.loc[\u001b[33m\"\u001b[39m\u001b[33m1984\u001b[39m\u001b[33m\"\u001b[39m:\u001b[33m\"\u001b[39m\u001b[33m1994\u001b[39m\u001b[33m\"\u001b[39m, :].shape[\u001b[32m0\u001b[39m]+\u001b[32m1\u001b[39m).date))\n\u001b[32m      7\u001b[39m wealth_94_04 = np.cumprod(pd.DataFrame(np.concatenate((np.ones(\n\u001b[32m      8\u001b[39m     \u001b[32m7\u001b[39m).reshape(-\u001b[32m1\u001b[39m, \u001b[32m7\u001b[39m), results_pct.loc[\u001b[33m\"\u001b[39m\u001b[33m1994\u001b[39m\u001b[33m\"\u001b[39m:\u001b[33m\"\u001b[39m\u001b[33m2004\u001b[39m\u001b[33m\"\u001b[39m, :].values+\u001b[32m1\u001b[39m), axis=\u001b[32m0\u001b[39m), columns=results_pct.columns, index=pd.date_range(start=results_pct.loc[\u001b[33m\"\u001b[39m\u001b[33m1994\u001b[39m\u001b[33m\"\u001b[39m:\u001b[33m\"\u001b[39m\u001b[33m2004\u001b[39m\u001b[33m\"\u001b[39m, :].index[\u001b[32m0\u001b[39m]-pd.Timedelta(\u001b[33m\"\u001b[39m\u001b[33m1d\u001b[39m\u001b[33m\"\u001b[39m), end=results_pct.loc[\u001b[33m\"\u001b[39m\u001b[33m1994\u001b[39m\u001b[33m\"\u001b[39m:\u001b[33m\"\u001b[39m\u001b[33m2004\u001b[39m\u001b[33m\"\u001b[39m, :].index[-\u001b[32m1\u001b[39m], periods=results_pct.loc[\u001b[33m\"\u001b[39m\u001b[33m1994\u001b[39m\u001b[33m\"\u001b[39m:\u001b[33m\"\u001b[39m\u001b[33m2004\u001b[39m\u001b[33m\"\u001b[39m, :].shape[\u001b[32m0\u001b[39m]+\u001b[32m1\u001b[39m).date))\n",
      "\u001b[31mValueError\u001b[39m: all the input array dimensions except for the concatenation axis must match exactly, but along dimension 1, the array at index 0 has size 7 and the array at index 1 has size 5"
     ]
    }
   ],
   "source": [
    "wealth_74_84 = np.cumprod(pd.DataFrame(np.concatenate((np.ones(7.reshape(-1, 7), results_pct.loc[\"1974\":\"1984\", :].values+1), axis=0), columns=results_pct.columns, index=pd.date_range(start=results_pct.loc[\"1974\":\"1984\", :].index[0]-pd.Timedelta(\"1d\"), end=results_pct.loc[\"1974\":\"1984\", :].index[-1], periods=results_pct.loc[\"1974\":\"1984\", :].shape[0]+1).date))\n",
    "\n",
    "wealth_84_94 = np.cumprod(pd.DataFrame(np.concatenate((np.ones(\n",
    "    7).reshape(-1, 7), results_pct.loc[\"1984\":\"1994\", :].values+1), axis=0), columns=results_pct.columns, index=pd.date_range(start=results_pct.loc[\"1984\":\"1994\", :].index[0]-pd.Timedelta(\"1d\"), end=results_pct.loc[\"1984\":\"1994\", :].index[-1], periods=results_pct.loc[\"1984\":\"1994\", :].shape[0]+1).date))\n",
    "\n",
    "wealth_94_04 = np.cumprod(pd.DataFrame(np.concatenate((np.ones(\n",
    "    7).reshape(-1, 7), results_pct.loc[\"1994\":\"2004\", :].values+1), axis=0), columns=results_pct.columns, index=pd.date_range(start=results_pct.loc[\"1994\":\"2004\", :].index[0]-pd.Timedelta(\"1d\"), end=results_pct.loc[\"1994\":\"2004\", :].index[-1], periods=results_pct.loc[\"1994\":\"2004\", :].shape[0]+1).date))\n",
    "\n",
    "wealth_04_14 = np.cumprod(pd.DataFrame(np.concatenate((np.ones(\n",
    "    7).reshape(-1, 7), results_pct.loc[\"2004\":\"2014\", :].values+1), axis=0), columns=results_pct.columns, index=pd.date_range(start=results_pct.loc[\"2004\":\"2014\", :].index[0]-pd.Timedelta(\"1d\"), end=results_pct.loc[\"2004\":\"2014\", :].index[-1], periods=results_pct.loc[\"2004\":\"2014\", :].shape[0]+1).date))\n",
    "\n",
    "wealth_14_20 = np.cumprod(pd.DataFrame(np.concatenate((np.ones(\n",
    "    7).reshape(-1, 7), results_pct.loc[\"2014\":\"2020\", :].values+1), axis=0), columns=results_pct.columns, index=pd.date_range(start=results_pct.loc[\"2014\":\"2020\", :].index[0]-pd.Timedelta(\"1d\"), end=results_pct.loc[\"2014\":\"2020\", :].index[-1], periods=results_pct.loc[\"2014\":\"2020\", :].shape[0]+1).date))"
   ]
  },
  {
   "cell_type": "code",
   "execution_count": null,
   "metadata": {
    "ExecuteTime": {
     "end_time": "2020-06-09T05:09:19.354351Z",
     "start_time": "2020-06-09T05:09:07.065293Z"
    }
   },
   "outputs": [],
   "source": [
    "sns.set(style=\"whitegrid\", font_scale=3.2)\n",
    "plt.figure(figsize=(60, 25))\n",
    "ax = sns.lineplot(data=results, palette=\"bright\", linewidth=2.7, dashes=dash_styles)\n",
    "ax.set(xlabel=\"Date\", ylabel='Cum. Wealth', title=\"FF48 Algo. Comparison\");\n",
    "ax.figure.savefig(\"output.png\")"
   ]
  },
  {
   "cell_type": "code",
   "execution_count": null,
   "metadata": {},
   "outputs": [],
   "source": [
    "import seaborn as sns\n",
    "\n",
    "dash_styles = [\"\",\n",
    "               (4, 1.5),\n",
    "               (1, 1),\n",
    "               (3, 1, 1.5, 1),\n",
    "               (5, 1, 1, 1),\n",
    "               (5, 1, 2, 1, 2, 1),\n",
    "               (2, 2, 3, 1.5),\n",
    "               (1, 2.5, 3, 1.2)]\n",
    "\n",
    "\n",
    "\n",
    "sns.set(style=\"whitegrid\", font_scale=3.3)\n",
    "plt.figure(figsize=(60, 100))\n",
    "\n",
    "plt.subplot(5,1,1)\n",
    "ax = sns.lineplot(data=wealth_74_84, palette=\"bright\", linewidth=2.7, dashes=dash_styles)\n",
    "ax.set(ylabel='Cum. Wealth', title=\"FF48 Algo. Comparison\")\n",
    "\n",
    "plt.subplot(5,1,2)\n",
    "ax = sns.lineplot(data=wealth_84_94, palette=\"bright\", linewidth=2.7, dashes=dash_styles)\n",
    "ax.set(ylabel='Cum. Wealth')"
   ]
  },
  {
   "cell_type": "code",
   "execution_count": null,
   "metadata": {
    "ExecuteTime": {
     "end_time": "2020-06-09T20:02:59.691049Z",
     "start_time": "2020-06-09T20:02:33.836258Z"
    },
    "scrolled": false
   },
   "outputs": [],
   "source": [
    "import seaborn as sns\n",
    "\n",
    "dash_styles = [\"\",\n",
    "               (4, 1.5),\n",
    "               (1, 1),\n",
    "               (3, 1, 1.5, 1),\n",
    "               (5, 1, 1, 1),\n",
    "               (5, 1, 2, 1, 2, 1),\n",
    "               (2, 2, 3, 1.5),\n",
    "               (1, 2.5, 3, 1.2)]\n",
    "\n",
    "\n",
    "\n",
    "sns.set(style=\"whitegrid\", font_scale=3.3)\n",
    "plt.figure(figsize=(60, 100))\n",
    "\n",
    "plt.subplot(5,1,1)\n",
    "ax = sns.lineplot(data=wealth_74_84, palette=\"bright\", linewidth=2.7, dashes=dash_styles)\n",
    "ax.set(ylabel='Cum. Wealth', title=\"FF48 Algo. Comparison\")\n",
    "\n",
    "plt.subplot(5,1,2)\n",
    "ax = sns.lineplot(data=wealth_84_94, palette=\"bright\", linewidth=2.7, dashes=dash_styles)\n",
    "ax.set(ylabel='Cum. Wealth')\n",
    "\n",
    "plt.subplot(5,1,3)\n",
    "ax = sns.lineplot(data=wealth_94_04, palette=\"bright\", linewidth=2.7, dashes=dash_styles)\n",
    "ax.set(ylabel='Cum. Wealth')\n",
    "\n",
    "plt.subplot(5,1,4)\n",
    "ax = sns.lineplot(data=wealth_04_14, palette=\"bright\", linewidth=2.7, dashes=dash_styles)\n",
    "ax.set(ylabel='Cum. Wealth')\n",
    "\n",
    "plt.subplot(5,1,5)\n",
    "ax = sns.lineplot(data=wealth_14_20, palette=\"bright\", linewidth=2.7, dashes=dash_styles)\n",
    "ax.set(xlabel=\"Date\", ylabel='Cum. Wealth')\n",
    "ax.figure.savefig(\"output_2.png\")"
   ]
  },
  {
   "cell_type": "code",
   "execution_count": null,
   "metadata": {
    "ExecuteTime": {
     "end_time": "2020-06-09T20:37:31.836755Z",
     "start_time": "2020-06-09T20:37:31.828112Z"
    }
   },
   "outputs": [],
   "source": [
    "yearly_sharpes.to_csv(\"year_sharpes.csv\")"
   ]
  },
  {
   "cell_type": "markdown",
   "metadata": {},
   "source": [
    "# 10-Portfolios - Daily\n"
   ]
  },
  {
   "cell_type": "code",
   "execution_count": null,
   "metadata": {
    "ExecuteTime": {
     "end_time": "2020-06-08T20:55:57.759370Z",
     "start_time": "2020-06-08T20:55:57.738855Z"
    }
   },
   "outputs": [],
   "source": [
    "\n",
    "data_10 = pd.read_csv('/Users/guneykan/Downloads/48_Industry_Portfolios.CSV', index_col=0)\n",
    "\n",
    "data_10 = data_10[('197401' <= data_10.index.values.astype(str)) & (data_10.index.values.astype(str) <= '201912')]\n",
    "\n",
    "data_10.index = pd.to_datetime(data_10.index, format=\"%Y%m\")\n",
    "\n",
    "date_10 = data_10.index.date\n",
    "\n",
    "# The rate of return matrix, fill missing values with 100%\n",
    "R_10 = data_10.values.T.astype(float)\n",
    "R_10[R_10 < -99]\n",
    "R_10 = (R_10 + 100) / 100  # Gross Return"
   ]
  },
  {
   "cell_type": "code",
   "execution_count": null,
   "metadata": {
    "ExecuteTime": {
     "end_time": "2020-06-08T21:00:06.197492Z",
     "start_time": "2020-06-08T21:00:06.194751Z"
    }
   },
   "outputs": [],
   "source": [
    "window_size = 120\n",
    "orthogonal_bandit_portfolio_10 = BanditPortfolio(R_10)"
   ]
  },
  {
   "cell_type": "code",
   "execution_count": null,
   "metadata": {
    "ExecuteTime": {
     "end_time": "2020-06-08T21:00:08.221316Z",
     "start_time": "2020-06-08T21:00:07.695222Z"
    },
    "scrolled": true
   },
   "outputs": [],
   "source": [
    "orthogonal_bandit_portfolio_10.UCB(window_size = window_size)\n",
    "ucb_10_wealth = np.cumprod(orthogonal_bandit_portfolio_10.reward)"
   ]
  },
  {
   "cell_type": "code",
   "execution_count": null,
   "metadata": {
    "ExecuteTime": {
     "end_time": "2020-06-08T21:00:26.867109Z",
     "start_time": "2020-06-08T21:00:09.942244Z"
    },
    "scrolled": true
   },
   "outputs": [],
   "source": [
    "orthogonal_bandit_portfolio_10.UCBPSR(window_size = window_size)\n",
    "ucbpsr_10_wealth = np.cumprod(orthogonal_bandit_portfolio_10.reward)"
   ]
  },
  {
   "cell_type": "code",
   "execution_count": null,
   "metadata": {
    "ExecuteTime": {
     "end_time": "2020-06-08T21:00:45.893550Z",
     "start_time": "2020-06-08T21:00:28.750698Z"
    },
    "scrolled": true
   },
   "outputs": [],
   "source": [
    "orthogonal_bandit_portfolio_10.TS(window_size = window_size)\n",
    "ts_10_wealth = np.cumprod(orthogonal_bandit_portfolio_10.reward)\n",
    "mv_10_wealth = np.cumprod(orthogonal_bandit_portfolio_10.mv_reward)\n"
   ]
  },
  {
   "cell_type": "code",
   "execution_count": null,
   "metadata": {
    "ExecuteTime": {
     "end_time": "2020-06-08T21:01:04.404787Z",
     "start_time": "2020-06-08T21:00:47.806512Z"
    }
   },
   "outputs": [],
   "source": [
    "orthogonal_bandit_portfolio_10.PSR(window_size = window_size)\n",
    "psr_10_wealth = np.cumprod(orthogonal_bandit_portfolio_10.reward)\n"
   ]
  },
  {
   "cell_type": "code",
   "execution_count": null,
   "metadata": {
    "ExecuteTime": {
     "end_time": "2020-06-08T21:01:06.388183Z",
     "start_time": "2020-06-08T21:01:06.383131Z"
    }
   },
   "outputs": [],
   "source": [
    "cw_10_wealth = np.cumprod(R_10[:,window_size:].mean(axis=0))\n",
    "ew_10_wealth = np.mean(np.cumprod(R_10[:,window_size:], axis=1), axis=0)"
   ]
  },
  {
   "cell_type": "code",
   "execution_count": null,
   "metadata": {
    "ExecuteTime": {
     "end_time": "2020-06-08T21:01:08.289741Z",
     "start_time": "2020-06-08T21:01:08.275946Z"
    }
   },
   "outputs": [],
   "source": [
    "all_10_wealth = {\"MVP\": mv_10_wealth, \"CWR\": cw_10_wealth, \"EW\": ew_10_wealth, \"UCB1\": ucb_10_wealth, \"TS\": ts_10_wealth, \"MaxPSR\": psr_10_wealth, \"PW-UCB1\": ucbpsr_10_wealth}\n",
    "\n",
    "results_10 = pd.DataFrame(all_10_wealth)\n",
    "results_pct_10 = results_10.pct_change().dropna()"
   ]
  },
  {
   "cell_type": "code",
   "execution_count": null,
   "metadata": {
    "ExecuteTime": {
     "end_time": "2020-06-08T21:01:10.163050Z",
     "start_time": "2020-06-08T21:01:10.147382Z"
    }
   },
   "outputs": [],
   "source": [
    "results_10"
   ]
  },
  {
   "cell_type": "code",
   "execution_count": null,
   "metadata": {
    "ExecuteTime": {
     "end_time": "2020-06-08T21:01:11.973599Z",
     "start_time": "2020-06-08T21:01:11.970108Z"
    }
   },
   "outputs": [],
   "source": [
    "results_pct_10.index = date_10[window_size+1:]"
   ]
  },
  {
   "cell_type": "code",
   "execution_count": null,
   "metadata": {
    "ExecuteTime": {
     "end_time": "2020-06-08T20:52:37.646351Z",
     "start_time": "2020-06-08T20:52:37.640693Z"
    }
   },
   "outputs": [],
   "source": [
    "years = pd.date_range(start=\"1974\", end=\"2019\", freq=\"y\").year\n",
    "years = [str(a) for a in years]\n",
    "\n",
    "results_pct_10.index = pd.to_datetime(results_pct_10.index)\n"
   ]
  },
  {
   "cell_type": "code",
   "execution_count": null,
   "metadata": {
    "ExecuteTime": {
     "end_time": "2020-06-08T20:52:39.083314Z",
     "start_time": "2020-06-08T20:52:38.778326Z"
    }
   },
   "outputs": [],
   "source": [
    "yearly_sharpes = {}\n",
    "\n",
    "for col in results_pct_10.columns:\n",
    "    col_ = {}\n",
    "    for a in range(1, len(years)):\n",
    "        col_[years[a]] = np.sqrt(12)*np.mean(results_pct_10.loc[years[a-1]:years[a], col])/np.std(results_pct_10.loc[years[a-1]:years[a], col])\n",
    "    yearly_sharpes[col] = col_"
   ]
  },
  {
   "cell_type": "code",
   "execution_count": null,
   "metadata": {
    "ExecuteTime": {
     "end_time": "2020-06-08T20:52:40.168482Z",
     "start_time": "2020-06-08T20:52:40.160339Z"
    }
   },
   "outputs": [],
   "source": [
    "yearly_sharpes = pd.DataFrame(yearly_sharpes)\n",
    "yearly_sharpes.mean().sort_values(ascending=False)"
   ]
  },
  {
   "cell_type": "code",
   "execution_count": null,
   "metadata": {
    "ExecuteTime": {
     "end_time": "2020-06-08T20:55:09.683281Z",
     "start_time": "2020-06-08T20:55:07.399308Z"
    }
   },
   "outputs": [],
   "source": [
    "import seaborn as sns\n",
    "\n",
    "dash_styles = [\"\",\n",
    "               (4, 1.5),\n",
    "               (1, 1),\n",
    "               (3, 1, 1.5, 1),\n",
    "               (5, 1, 1, 1),\n",
    "               (5, 1, 2, 1, 2, 1),\n",
    "               (2, 2, 3, 1.5),\n",
    "               (1, 2.5, 3, 1.2)]\n",
    "sns.set(style=\"whitegrid\", font_scale=2.5)\n",
    "plt.figure(figsize=(40, 18))\n",
    "ax = sns.lineplot(data=results_10, palette=\"bright\", linewidth=2.7, dashes=dash_styles)\n",
    "ax.set(xlabel='Date', ylabel='Cum. Wealth', title=\"FF10 Algo. Comparison\")"
   ]
  },
  {
   "cell_type": "markdown",
   "metadata": {},
   "source": [
    "# 5-Port. Daily"
   ]
  },
  {
   "cell_type": "code",
   "execution_count": null,
   "metadata": {
    "ExecuteTime": {
     "end_time": "2020-06-08T20:13:32.498709Z",
     "start_time": "2020-06-08T20:13:32.419902Z"
    }
   },
   "outputs": [],
   "source": [
    "\n",
    "data_30 = pd.read_csv('/Users/guneykan/Downloads/5_Industry_Portfolios_Daily.CSV', index_col=0)\n",
    "\n",
    "data_30 = data_30[('197401' <= data_30.index.values.astype(str)) & (data_30.index.values.astype(str) <= '201912')]\n",
    "\n",
    "data_30.index = pd.to_datetime(data_30.index, format=\"%Y%m%d\")\n",
    "\n",
    "date_30 = data_30.index.date\n",
    "\n",
    "# The rate of return matrix, fill missing values with 100%\n",
    "R_30 = data_30.values.T.astype(np.float)\n",
    "#R_30[R_30 < -99]\n",
    "R_30 = (R_30 + 100) / 100  # Gross Return"
   ]
  },
  {
   "cell_type": "code",
   "execution_count": null,
   "metadata": {
    "ExecuteTime": {
     "end_time": "2020-06-08T20:13:33.525142Z",
     "start_time": "2020-06-08T20:13:33.516376Z"
    }
   },
   "outputs": [],
   "source": [
    "window_size = 120\n",
    "orthogonal_bandit_portfolio_30 = BanditPortfolio(R_30)"
   ]
  },
  {
   "cell_type": "code",
   "execution_count": null,
   "metadata": {
    "ExecuteTime": {
     "end_time": "2020-06-08T20:13:39.776048Z",
     "start_time": "2020-06-08T20:13:34.639807Z"
    }
   },
   "outputs": [],
   "source": [
    "orthogonal_bandit_portfolio_30.UCB(window_size = window_size)\n",
    "ucb_30_wealth = np.cumprod(orthogonal_bandit_portfolio_30.reward)"
   ]
  },
  {
   "cell_type": "code",
   "execution_count": null,
   "metadata": {
    "ExecuteTime": {
     "end_time": "2020-06-08T20:14:28.838785Z",
     "start_time": "2020-06-08T20:13:41.080884Z"
    }
   },
   "outputs": [],
   "source": [
    "orthogonal_bandit_portfolio_30.UCBPSR(window_size = window_size)\n",
    "ucbpsr_30_wealth = np.cumprod(orthogonal_bandit_portfolio_30.reward)"
   ]
  },
  {
   "cell_type": "code",
   "execution_count": null,
   "metadata": {
    "ExecuteTime": {
     "end_time": "2020-06-08T20:15:18.274174Z",
     "start_time": "2020-06-08T20:14:30.016403Z"
    }
   },
   "outputs": [],
   "source": [
    "orthogonal_bandit_portfolio_30.TS(window_size = window_size)\n",
    "ts_30_wealth = np.cumprod(orthogonal_bandit_portfolio_30.reward)\n",
    "mv_30_wealth = np.cumprod(orthogonal_bandit_portfolio_30.mv_reward)\n"
   ]
  },
  {
   "cell_type": "code",
   "execution_count": null,
   "metadata": {
    "ExecuteTime": {
     "end_time": "2020-06-08T20:16:02.779409Z",
     "start_time": "2020-06-08T20:15:19.299070Z"
    }
   },
   "outputs": [],
   "source": [
    "orthogonal_bandit_portfolio_30.PSR(window_size = window_size)\n",
    "psr_30_wealth = np.cumprod(orthogonal_bandit_portfolio_30.reward)"
   ]
  },
  {
   "cell_type": "code",
   "execution_count": null,
   "metadata": {
    "ExecuteTime": {
     "end_time": "2020-06-08T20:16:04.129782Z",
     "start_time": "2020-06-08T20:16:04.125097Z"
    }
   },
   "outputs": [],
   "source": [
    "cw_30_wealth = np.cumprod(R_30[:,window_size:].mean(axis=0))\n",
    "ew_30_wealth = np.mean(np.cumprod(R_30[:,window_size:], axis=1), axis=0)"
   ]
  },
  {
   "cell_type": "code",
   "execution_count": null,
   "metadata": {
    "ExecuteTime": {
     "end_time": "2020-06-08T20:16:05.514063Z",
     "start_time": "2020-06-08T20:16:05.493684Z"
    }
   },
   "outputs": [],
   "source": [
    "date_30 = data_30.index.values[window_size:]\n",
    "all_30_wealth = {\"MVP\": mv_30_wealth, \"CWR\": cw_30_wealth, \"EW\": ew_30_wealth, \"UCB1\": ucb_30_wealth, \"TS\": ts_30_wealth, \"MaxPSR\": psr_30_wealth, \"PW-UCB1\": ucbpsr_30_wealth}\n",
    "\n",
    "results_30 = pd.DataFrame(all_30_wealth)\n",
    "results_pct_30 = results_30.pct_change().dropna()\n",
    "results_30.index = date_30\n",
    "results_pct_30.index = date_30[1:]"
   ]
  },
  {
   "cell_type": "code",
   "execution_count": null,
   "metadata": {
    "ExecuteTime": {
     "end_time": "2020-06-08T20:33:57.959405Z",
     "start_time": "2020-06-08T20:33:57.656250Z"
    }
   },
   "outputs": [],
   "source": [
    "\n",
    "\n",
    "years = pd.date_range(start=\"1974\", end=\"2019\", freq=\"y\").year\n",
    "years = [str(a) for a in years]\n",
    "\n",
    "results_pct_30.index = pd.to_datetime(results_pct_30.index)\n",
    "\n",
    "yearly_sharpes = {}\n",
    "\n",
    "for col in results_pct_30.columns:\n",
    "    col_ = {}\n",
    "    for a in range(1, len(years)):\n",
    "        col_[years[a]] = np.sqrt(252)*np.mean(results_pct_30.loc[years[a-1]:years[a], col])/np.std(results_pct_30.loc[years[a-1]:years[a], col])\n",
    "    yearly_sharpes[col] = col_\n",
    "    \n",
    "yearly_sharpes = pd.DataFrame(yearly_sharpes)\n",
    "yearly_sharpes.mean().sort_values(ascending=False)"
   ]
  },
  {
   "cell_type": "code",
   "execution_count": null,
   "metadata": {
    "ExecuteTime": {
     "end_time": "2020-06-08T20:16:20.382127Z",
     "start_time": "2020-06-08T20:16:06.853923Z"
    }
   },
   "outputs": [],
   "source": [
    "import seaborn as sns\n",
    "\n",
    "dash_styles = [\"\",\n",
    "               (4, 1.5),\n",
    "               (1, 1),\n",
    "               (3, 1, 1.5, 1),\n",
    "               (5, 1, 1, 1),\n",
    "               (5, 1, 2, 1, 2, 1),\n",
    "               (2, 2, 3, 1.5),\n",
    "               (1, 2.5, 3, 1.2)]\n",
    "sns.set(style=\"whitegrid\", font_scale=2.5)\n",
    "plt.figure(figsize=(40, 18))\n",
    "ax = sns.lineplot(data=results_30, palette=\"bright\", linewidth=2.7, dashes=dash_styles)\n",
    "ax.set(xlabel='Date', ylabel='Cum. Wealth', title=\"FF30 Algo. Comparison\")"
   ]
  },
  {
   "cell_type": "code",
   "execution_count": null,
   "metadata": {},
   "outputs": [],
   "source": []
  }
 ],
 "metadata": {
  "hide_input": false,
  "kernelspec": {
   "display_name": ".venv",
   "language": "python",
   "name": "python3"
  },
  "language_info": {
   "codemirror_mode": {
    "name": "ipython",
    "version": 3
   },
   "file_extension": ".py",
   "mimetype": "text/x-python",
   "name": "python",
   "nbconvert_exporter": "python",
   "pygments_lexer": "ipython3",
   "version": "3.13.2"
  },
  "toc": {
   "base_numbering": 1,
   "nav_menu": {},
   "number_sections": true,
   "sideBar": true,
   "skip_h1_title": false,
   "title_cell": "Table of Contents",
   "title_sidebar": "Contents",
   "toc_cell": false,
   "toc_position": {},
   "toc_section_display": true,
   "toc_window_display": false
  },
  "varInspector": {
   "cols": {
    "lenName": 16,
    "lenType": 16,
    "lenVar": 40
   },
   "kernels_config": {
    "python": {
     "delete_cmd_postfix": "",
     "delete_cmd_prefix": "del ",
     "library": "var_list.py",
     "varRefreshCmd": "print(var_dic_list())"
    },
    "r": {
     "delete_cmd_postfix": ") ",
     "delete_cmd_prefix": "rm(",
     "library": "var_list.r",
     "varRefreshCmd": "cat(var_dic_list()) "
    }
   },
   "types_to_exclude": [
    "module",
    "function",
    "builtin_function_or_method",
    "instance",
    "_Feature"
   ],
   "window_display": false
  }
 },
 "nbformat": 4,
 "nbformat_minor": 4
}
